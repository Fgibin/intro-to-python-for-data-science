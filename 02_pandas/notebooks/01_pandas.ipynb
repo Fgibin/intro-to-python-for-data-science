{
 "cells": [
  {
   "cell_type": "markdown",
   "metadata": {},
   "source": [
    "# Introduction to `pandas`\n",
    "\n",
    "Let's start by importing some libraries:\n",
    "* `numpy` and `pandas` to load, explore, and summarise the data\n",
    "* `matplotlib` to visualise the data"
   ]
  },
  {
   "cell_type": "code",
   "execution_count": 1,
   "metadata": {},
   "outputs": [],
   "source": [
    "import numpy as np\n",
    "import pandas as pd\n",
    "import matplotlib.pyplot as plt\n",
    "\n",
    "# Make sure plots are shown inside the notebook\n",
    "%matplotlib inline\n",
    "plt.rcParams['figure.figsize'] = (10, 6)"
   ]
  },
  {
   "cell_type": "markdown",
   "metadata": {},
   "source": [
    "## Loading and exploring data files"
   ]
  },
  {
   "cell_type": "markdown",
   "metadata": {},
   "source": [
    "For this introduction, we'll use data on student performance from the [UCI Machine Learning Repository](https://archive.ics.uci.edu/ml/datasets/Student+Performance)."
   ]
  },
  {
   "cell_type": "code",
   "execution_count": 2,
   "metadata": {
    "collapsed": true
   },
   "outputs": [],
   "source": [
    "students = pd.read_csv('https://raw.githubusercontent.com/estimand/teaching-datasets/master/student-performance/student_performance.csv')"
   ]
  },
  {
   "cell_type": "markdown",
   "metadata": {},
   "source": [
    "Note how `pandas` can read data from a local file or directly from a URL. You should also explore other `read_` methods such as `read_excel`.\n",
    "\n",
    "What's the type of the `students` variable we've just created?"
   ]
  },
  {
   "cell_type": "code",
   "execution_count": 3,
   "metadata": {},
   "outputs": [
    {
     "data": {
      "text/plain": [
       "pandas.core.frame.DataFrame"
      ]
     },
     "execution_count": 3,
     "metadata": {},
     "output_type": "execute_result"
    }
   ],
   "source": [
    "type(students)"
   ]
  },
  {
   "cell_type": "markdown",
   "metadata": {},
   "source": [
    "`DataFrame`s are at the core of `pandas`. They're organised like Excel spreadsheets, with **rows representing observations** (people, items, etc.), and **columns representing variables** (measurements, attributes, etc.).\n",
    "\n",
    "The number of rows and columns in a `DataFrame` is known as its `shape`."
   ]
  },
  {
   "cell_type": "code",
   "execution_count": 4,
   "metadata": {},
   "outputs": [
    {
     "data": {
      "text/plain": [
       "(649, 31)"
      ]
     },
     "execution_count": 4,
     "metadata": {},
     "output_type": "execute_result"
    }
   ],
   "source": [
    "students.shape"
   ]
  },
  {
   "cell_type": "markdown",
   "metadata": {},
   "source": [
    "We can have a quick look at the data using the functions `head` and `tail`, which return the first or last 5 rows (by default), respectively."
   ]
  },
  {
   "cell_type": "code",
   "execution_count": 5,
   "metadata": {},
   "outputs": [
    {
     "data": {
      "text/html": [
       "<div>\n",
       "<style>\n",
       "    .dataframe thead tr:only-child th {\n",
       "        text-align: right;\n",
       "    }\n",
       "\n",
       "    .dataframe thead th {\n",
       "        text-align: left;\n",
       "    }\n",
       "\n",
       "    .dataframe tbody tr th {\n",
       "        vertical-align: top;\n",
       "    }\n",
       "</style>\n",
       "<table border=\"1\" class=\"dataframe\">\n",
       "  <thead>\n",
       "    <tr style=\"text-align: right;\">\n",
       "      <th></th>\n",
       "      <th>school</th>\n",
       "      <th>sex</th>\n",
       "      <th>age</th>\n",
       "      <th>home_area</th>\n",
       "      <th>family_size</th>\n",
       "      <th>parents_cohabit</th>\n",
       "      <th>education_mother</th>\n",
       "      <th>education_father</th>\n",
       "      <th>occupation_mother</th>\n",
       "      <th>occupation_father</th>\n",
       "      <th>...</th>\n",
       "      <th>internet_access</th>\n",
       "      <th>romantic_relationship</th>\n",
       "      <th>family_relationships_quality</th>\n",
       "      <th>free_time</th>\n",
       "      <th>going_out</th>\n",
       "      <th>alcohol_weekdays</th>\n",
       "      <th>alcohol_weekend</th>\n",
       "      <th>health_status</th>\n",
       "      <th>absences</th>\n",
       "      <th>final_grade</th>\n",
       "    </tr>\n",
       "  </thead>\n",
       "  <tbody>\n",
       "    <tr>\n",
       "      <th>0</th>\n",
       "      <td>Gabriel Pereira</td>\n",
       "      <td>F</td>\n",
       "      <td>18</td>\n",
       "      <td>Urban</td>\n",
       "      <td>&gt; 3</td>\n",
       "      <td>False</td>\n",
       "      <td>Higher education</td>\n",
       "      <td>Higher education</td>\n",
       "      <td>At home</td>\n",
       "      <td>Teacher</td>\n",
       "      <td>...</td>\n",
       "      <td>False</td>\n",
       "      <td>False</td>\n",
       "      <td>4</td>\n",
       "      <td>3</td>\n",
       "      <td>4</td>\n",
       "      <td>1</td>\n",
       "      <td>1</td>\n",
       "      <td>3</td>\n",
       "      <td>4</td>\n",
       "      <td>11</td>\n",
       "    </tr>\n",
       "    <tr>\n",
       "      <th>1</th>\n",
       "      <td>Gabriel Pereira</td>\n",
       "      <td>F</td>\n",
       "      <td>17</td>\n",
       "      <td>Urban</td>\n",
       "      <td>&gt; 3</td>\n",
       "      <td>True</td>\n",
       "      <td>Primary education</td>\n",
       "      <td>Primary education</td>\n",
       "      <td>At home</td>\n",
       "      <td>Other</td>\n",
       "      <td>...</td>\n",
       "      <td>True</td>\n",
       "      <td>False</td>\n",
       "      <td>5</td>\n",
       "      <td>3</td>\n",
       "      <td>3</td>\n",
       "      <td>1</td>\n",
       "      <td>1</td>\n",
       "      <td>3</td>\n",
       "      <td>2</td>\n",
       "      <td>11</td>\n",
       "    </tr>\n",
       "    <tr>\n",
       "      <th>2</th>\n",
       "      <td>Gabriel Pereira</td>\n",
       "      <td>F</td>\n",
       "      <td>15</td>\n",
       "      <td>Urban</td>\n",
       "      <td>&lt;= 3</td>\n",
       "      <td>True</td>\n",
       "      <td>Primary education</td>\n",
       "      <td>Primary education</td>\n",
       "      <td>At home</td>\n",
       "      <td>Other</td>\n",
       "      <td>...</td>\n",
       "      <td>True</td>\n",
       "      <td>False</td>\n",
       "      <td>4</td>\n",
       "      <td>3</td>\n",
       "      <td>2</td>\n",
       "      <td>2</td>\n",
       "      <td>3</td>\n",
       "      <td>3</td>\n",
       "      <td>6</td>\n",
       "      <td>12</td>\n",
       "    </tr>\n",
       "    <tr>\n",
       "      <th>3</th>\n",
       "      <td>Gabriel Pereira</td>\n",
       "      <td>F</td>\n",
       "      <td>15</td>\n",
       "      <td>Urban</td>\n",
       "      <td>&gt; 3</td>\n",
       "      <td>True</td>\n",
       "      <td>Higher education</td>\n",
       "      <td>Lower secondary education</td>\n",
       "      <td>Healthcare</td>\n",
       "      <td>Civil service</td>\n",
       "      <td>...</td>\n",
       "      <td>True</td>\n",
       "      <td>True</td>\n",
       "      <td>3</td>\n",
       "      <td>2</td>\n",
       "      <td>2</td>\n",
       "      <td>1</td>\n",
       "      <td>1</td>\n",
       "      <td>5</td>\n",
       "      <td>0</td>\n",
       "      <td>14</td>\n",
       "    </tr>\n",
       "    <tr>\n",
       "      <th>4</th>\n",
       "      <td>Gabriel Pereira</td>\n",
       "      <td>F</td>\n",
       "      <td>16</td>\n",
       "      <td>Urban</td>\n",
       "      <td>&gt; 3</td>\n",
       "      <td>True</td>\n",
       "      <td>Upper secondary education</td>\n",
       "      <td>Upper secondary education</td>\n",
       "      <td>Other</td>\n",
       "      <td>Other</td>\n",
       "      <td>...</td>\n",
       "      <td>False</td>\n",
       "      <td>False</td>\n",
       "      <td>4</td>\n",
       "      <td>3</td>\n",
       "      <td>2</td>\n",
       "      <td>1</td>\n",
       "      <td>2</td>\n",
       "      <td>5</td>\n",
       "      <td>0</td>\n",
       "      <td>13</td>\n",
       "    </tr>\n",
       "  </tbody>\n",
       "</table>\n",
       "<p>5 rows × 31 columns</p>\n",
       "</div>"
      ],
      "text/plain": [
       "            school sex  age home_area family_size  parents_cohabit  \\\n",
       "0  Gabriel Pereira   F   18     Urban         > 3            False   \n",
       "1  Gabriel Pereira   F   17     Urban         > 3             True   \n",
       "2  Gabriel Pereira   F   15     Urban        <= 3             True   \n",
       "3  Gabriel Pereira   F   15     Urban         > 3             True   \n",
       "4  Gabriel Pereira   F   16     Urban         > 3             True   \n",
       "\n",
       "            education_mother           education_father occupation_mother  \\\n",
       "0           Higher education           Higher education           At home   \n",
       "1          Primary education          Primary education           At home   \n",
       "2          Primary education          Primary education           At home   \n",
       "3           Higher education  Lower secondary education        Healthcare   \n",
       "4  Upper secondary education  Upper secondary education             Other   \n",
       "\n",
       "  occupation_father     ...      internet_access romantic_relationship  \\\n",
       "0           Teacher     ...                False                 False   \n",
       "1             Other     ...                 True                 False   \n",
       "2             Other     ...                 True                 False   \n",
       "3     Civil service     ...                 True                  True   \n",
       "4             Other     ...                False                 False   \n",
       "\n",
       "  family_relationships_quality free_time going_out  alcohol_weekdays  \\\n",
       "0                            4         3         4                 1   \n",
       "1                            5         3         3                 1   \n",
       "2                            4         3         2                 2   \n",
       "3                            3         2         2                 1   \n",
       "4                            4         3         2                 1   \n",
       "\n",
       "   alcohol_weekend  health_status  absences  final_grade  \n",
       "0                1              3         4           11  \n",
       "1                1              3         2           11  \n",
       "2                3              3         6           12  \n",
       "3                1              5         0           14  \n",
       "4                2              5         0           13  \n",
       "\n",
       "[5 rows x 31 columns]"
      ]
     },
     "execution_count": 5,
     "metadata": {},
     "output_type": "execute_result"
    }
   ],
   "source": [
    "students.head()"
   ]
  },
  {
   "cell_type": "code",
   "execution_count": 6,
   "metadata": {},
   "outputs": [
    {
     "data": {
      "text/html": [
       "<div>\n",
       "<style>\n",
       "    .dataframe thead tr:only-child th {\n",
       "        text-align: right;\n",
       "    }\n",
       "\n",
       "    .dataframe thead th {\n",
       "        text-align: left;\n",
       "    }\n",
       "\n",
       "    .dataframe tbody tr th {\n",
       "        vertical-align: top;\n",
       "    }\n",
       "</style>\n",
       "<table border=\"1\" class=\"dataframe\">\n",
       "  <thead>\n",
       "    <tr style=\"text-align: right;\">\n",
       "      <th></th>\n",
       "      <th>school</th>\n",
       "      <th>sex</th>\n",
       "      <th>age</th>\n",
       "      <th>home_area</th>\n",
       "      <th>family_size</th>\n",
       "      <th>parents_cohabit</th>\n",
       "      <th>education_mother</th>\n",
       "      <th>education_father</th>\n",
       "      <th>occupation_mother</th>\n",
       "      <th>occupation_father</th>\n",
       "      <th>...</th>\n",
       "      <th>internet_access</th>\n",
       "      <th>romantic_relationship</th>\n",
       "      <th>family_relationships_quality</th>\n",
       "      <th>free_time</th>\n",
       "      <th>going_out</th>\n",
       "      <th>alcohol_weekdays</th>\n",
       "      <th>alcohol_weekend</th>\n",
       "      <th>health_status</th>\n",
       "      <th>absences</th>\n",
       "      <th>final_grade</th>\n",
       "    </tr>\n",
       "  </thead>\n",
       "  <tbody>\n",
       "    <tr>\n",
       "      <th>644</th>\n",
       "      <td>Mouzinho da Silveira</td>\n",
       "      <td>F</td>\n",
       "      <td>19</td>\n",
       "      <td>Rural</td>\n",
       "      <td>&gt; 3</td>\n",
       "      <td>True</td>\n",
       "      <td>Lower secondary education</td>\n",
       "      <td>Upper secondary education</td>\n",
       "      <td>Civil service</td>\n",
       "      <td>Other</td>\n",
       "      <td>...</td>\n",
       "      <td>True</td>\n",
       "      <td>False</td>\n",
       "      <td>5</td>\n",
       "      <td>4</td>\n",
       "      <td>2</td>\n",
       "      <td>1</td>\n",
       "      <td>2</td>\n",
       "      <td>5</td>\n",
       "      <td>4</td>\n",
       "      <td>10</td>\n",
       "    </tr>\n",
       "    <tr>\n",
       "      <th>645</th>\n",
       "      <td>Mouzinho da Silveira</td>\n",
       "      <td>F</td>\n",
       "      <td>18</td>\n",
       "      <td>Urban</td>\n",
       "      <td>&lt;= 3</td>\n",
       "      <td>True</td>\n",
       "      <td>Upper secondary education</td>\n",
       "      <td>Primary education</td>\n",
       "      <td>Teacher</td>\n",
       "      <td>Civil service</td>\n",
       "      <td>...</td>\n",
       "      <td>True</td>\n",
       "      <td>False</td>\n",
       "      <td>4</td>\n",
       "      <td>3</td>\n",
       "      <td>4</td>\n",
       "      <td>1</td>\n",
       "      <td>1</td>\n",
       "      <td>1</td>\n",
       "      <td>4</td>\n",
       "      <td>16</td>\n",
       "    </tr>\n",
       "    <tr>\n",
       "      <th>646</th>\n",
       "      <td>Mouzinho da Silveira</td>\n",
       "      <td>F</td>\n",
       "      <td>18</td>\n",
       "      <td>Urban</td>\n",
       "      <td>&gt; 3</td>\n",
       "      <td>True</td>\n",
       "      <td>Primary education</td>\n",
       "      <td>Primary education</td>\n",
       "      <td>Other</td>\n",
       "      <td>Other</td>\n",
       "      <td>...</td>\n",
       "      <td>False</td>\n",
       "      <td>False</td>\n",
       "      <td>1</td>\n",
       "      <td>1</td>\n",
       "      <td>1</td>\n",
       "      <td>1</td>\n",
       "      <td>1</td>\n",
       "      <td>5</td>\n",
       "      <td>6</td>\n",
       "      <td>9</td>\n",
       "    </tr>\n",
       "    <tr>\n",
       "      <th>647</th>\n",
       "      <td>Mouzinho da Silveira</td>\n",
       "      <td>M</td>\n",
       "      <td>17</td>\n",
       "      <td>Urban</td>\n",
       "      <td>&lt;= 3</td>\n",
       "      <td>True</td>\n",
       "      <td>Upper secondary education</td>\n",
       "      <td>Primary education</td>\n",
       "      <td>Civil service</td>\n",
       "      <td>Civil service</td>\n",
       "      <td>...</td>\n",
       "      <td>True</td>\n",
       "      <td>False</td>\n",
       "      <td>2</td>\n",
       "      <td>4</td>\n",
       "      <td>5</td>\n",
       "      <td>3</td>\n",
       "      <td>4</td>\n",
       "      <td>2</td>\n",
       "      <td>6</td>\n",
       "      <td>10</td>\n",
       "    </tr>\n",
       "    <tr>\n",
       "      <th>648</th>\n",
       "      <td>Mouzinho da Silveira</td>\n",
       "      <td>M</td>\n",
       "      <td>18</td>\n",
       "      <td>Rural</td>\n",
       "      <td>&lt;= 3</td>\n",
       "      <td>True</td>\n",
       "      <td>Upper secondary education</td>\n",
       "      <td>Lower secondary education</td>\n",
       "      <td>Civil service</td>\n",
       "      <td>Other</td>\n",
       "      <td>...</td>\n",
       "      <td>True</td>\n",
       "      <td>False</td>\n",
       "      <td>4</td>\n",
       "      <td>4</td>\n",
       "      <td>1</td>\n",
       "      <td>3</td>\n",
       "      <td>4</td>\n",
       "      <td>5</td>\n",
       "      <td>4</td>\n",
       "      <td>11</td>\n",
       "    </tr>\n",
       "  </tbody>\n",
       "</table>\n",
       "<p>5 rows × 31 columns</p>\n",
       "</div>"
      ],
      "text/plain": [
       "                   school sex  age home_area family_size  parents_cohabit  \\\n",
       "644  Mouzinho da Silveira   F   19     Rural         > 3             True   \n",
       "645  Mouzinho da Silveira   F   18     Urban        <= 3             True   \n",
       "646  Mouzinho da Silveira   F   18     Urban         > 3             True   \n",
       "647  Mouzinho da Silveira   M   17     Urban        <= 3             True   \n",
       "648  Mouzinho da Silveira   M   18     Rural        <= 3             True   \n",
       "\n",
       "              education_mother           education_father occupation_mother  \\\n",
       "644  Lower secondary education  Upper secondary education     Civil service   \n",
       "645  Upper secondary education          Primary education           Teacher   \n",
       "646          Primary education          Primary education             Other   \n",
       "647  Upper secondary education          Primary education     Civil service   \n",
       "648  Upper secondary education  Lower secondary education     Civil service   \n",
       "\n",
       "    occupation_father     ...      internet_access romantic_relationship  \\\n",
       "644             Other     ...                 True                 False   \n",
       "645     Civil service     ...                 True                 False   \n",
       "646             Other     ...                False                 False   \n",
       "647     Civil service     ...                 True                 False   \n",
       "648             Other     ...                 True                 False   \n",
       "\n",
       "    family_relationships_quality free_time going_out  alcohol_weekdays  \\\n",
       "644                            5         4         2                 1   \n",
       "645                            4         3         4                 1   \n",
       "646                            1         1         1                 1   \n",
       "647                            2         4         5                 3   \n",
       "648                            4         4         1                 3   \n",
       "\n",
       "     alcohol_weekend  health_status  absences  final_grade  \n",
       "644                2              5         4           10  \n",
       "645                1              1         4           16  \n",
       "646                1              5         6            9  \n",
       "647                4              2         6           10  \n",
       "648                4              5         4           11  \n",
       "\n",
       "[5 rows x 31 columns]"
      ]
     },
     "execution_count": 6,
     "metadata": {},
     "output_type": "execute_result"
    }
   ],
   "source": [
    "students.tail()"
   ]
  },
  {
   "cell_type": "markdown",
   "metadata": {},
   "source": [
    "We can also specify the number of rows we want as an argument."
   ]
  },
  {
   "cell_type": "code",
   "execution_count": 7,
   "metadata": {},
   "outputs": [
    {
     "data": {
      "text/html": [
       "<div>\n",
       "<style>\n",
       "    .dataframe thead tr:only-child th {\n",
       "        text-align: right;\n",
       "    }\n",
       "\n",
       "    .dataframe thead th {\n",
       "        text-align: left;\n",
       "    }\n",
       "\n",
       "    .dataframe tbody tr th {\n",
       "        vertical-align: top;\n",
       "    }\n",
       "</style>\n",
       "<table border=\"1\" class=\"dataframe\">\n",
       "  <thead>\n",
       "    <tr style=\"text-align: right;\">\n",
       "      <th></th>\n",
       "      <th>school</th>\n",
       "      <th>sex</th>\n",
       "      <th>age</th>\n",
       "      <th>home_area</th>\n",
       "      <th>family_size</th>\n",
       "      <th>parents_cohabit</th>\n",
       "      <th>education_mother</th>\n",
       "      <th>education_father</th>\n",
       "      <th>occupation_mother</th>\n",
       "      <th>occupation_father</th>\n",
       "      <th>...</th>\n",
       "      <th>internet_access</th>\n",
       "      <th>romantic_relationship</th>\n",
       "      <th>family_relationships_quality</th>\n",
       "      <th>free_time</th>\n",
       "      <th>going_out</th>\n",
       "      <th>alcohol_weekdays</th>\n",
       "      <th>alcohol_weekend</th>\n",
       "      <th>health_status</th>\n",
       "      <th>absences</th>\n",
       "      <th>final_grade</th>\n",
       "    </tr>\n",
       "  </thead>\n",
       "  <tbody>\n",
       "    <tr>\n",
       "      <th>0</th>\n",
       "      <td>Gabriel Pereira</td>\n",
       "      <td>F</td>\n",
       "      <td>18</td>\n",
       "      <td>Urban</td>\n",
       "      <td>&gt; 3</td>\n",
       "      <td>False</td>\n",
       "      <td>Higher education</td>\n",
       "      <td>Higher education</td>\n",
       "      <td>At home</td>\n",
       "      <td>Teacher</td>\n",
       "      <td>...</td>\n",
       "      <td>False</td>\n",
       "      <td>False</td>\n",
       "      <td>4</td>\n",
       "      <td>3</td>\n",
       "      <td>4</td>\n",
       "      <td>1</td>\n",
       "      <td>1</td>\n",
       "      <td>3</td>\n",
       "      <td>4</td>\n",
       "      <td>11</td>\n",
       "    </tr>\n",
       "    <tr>\n",
       "      <th>1</th>\n",
       "      <td>Gabriel Pereira</td>\n",
       "      <td>F</td>\n",
       "      <td>17</td>\n",
       "      <td>Urban</td>\n",
       "      <td>&gt; 3</td>\n",
       "      <td>True</td>\n",
       "      <td>Primary education</td>\n",
       "      <td>Primary education</td>\n",
       "      <td>At home</td>\n",
       "      <td>Other</td>\n",
       "      <td>...</td>\n",
       "      <td>True</td>\n",
       "      <td>False</td>\n",
       "      <td>5</td>\n",
       "      <td>3</td>\n",
       "      <td>3</td>\n",
       "      <td>1</td>\n",
       "      <td>1</td>\n",
       "      <td>3</td>\n",
       "      <td>2</td>\n",
       "      <td>11</td>\n",
       "    </tr>\n",
       "    <tr>\n",
       "      <th>2</th>\n",
       "      <td>Gabriel Pereira</td>\n",
       "      <td>F</td>\n",
       "      <td>15</td>\n",
       "      <td>Urban</td>\n",
       "      <td>&lt;= 3</td>\n",
       "      <td>True</td>\n",
       "      <td>Primary education</td>\n",
       "      <td>Primary education</td>\n",
       "      <td>At home</td>\n",
       "      <td>Other</td>\n",
       "      <td>...</td>\n",
       "      <td>True</td>\n",
       "      <td>False</td>\n",
       "      <td>4</td>\n",
       "      <td>3</td>\n",
       "      <td>2</td>\n",
       "      <td>2</td>\n",
       "      <td>3</td>\n",
       "      <td>3</td>\n",
       "      <td>6</td>\n",
       "      <td>12</td>\n",
       "    </tr>\n",
       "    <tr>\n",
       "      <th>3</th>\n",
       "      <td>Gabriel Pereira</td>\n",
       "      <td>F</td>\n",
       "      <td>15</td>\n",
       "      <td>Urban</td>\n",
       "      <td>&gt; 3</td>\n",
       "      <td>True</td>\n",
       "      <td>Higher education</td>\n",
       "      <td>Lower secondary education</td>\n",
       "      <td>Healthcare</td>\n",
       "      <td>Civil service</td>\n",
       "      <td>...</td>\n",
       "      <td>True</td>\n",
       "      <td>True</td>\n",
       "      <td>3</td>\n",
       "      <td>2</td>\n",
       "      <td>2</td>\n",
       "      <td>1</td>\n",
       "      <td>1</td>\n",
       "      <td>5</td>\n",
       "      <td>0</td>\n",
       "      <td>14</td>\n",
       "    </tr>\n",
       "    <tr>\n",
       "      <th>4</th>\n",
       "      <td>Gabriel Pereira</td>\n",
       "      <td>F</td>\n",
       "      <td>16</td>\n",
       "      <td>Urban</td>\n",
       "      <td>&gt; 3</td>\n",
       "      <td>True</td>\n",
       "      <td>Upper secondary education</td>\n",
       "      <td>Upper secondary education</td>\n",
       "      <td>Other</td>\n",
       "      <td>Other</td>\n",
       "      <td>...</td>\n",
       "      <td>False</td>\n",
       "      <td>False</td>\n",
       "      <td>4</td>\n",
       "      <td>3</td>\n",
       "      <td>2</td>\n",
       "      <td>1</td>\n",
       "      <td>2</td>\n",
       "      <td>5</td>\n",
       "      <td>0</td>\n",
       "      <td>13</td>\n",
       "    </tr>\n",
       "    <tr>\n",
       "      <th>5</th>\n",
       "      <td>Gabriel Pereira</td>\n",
       "      <td>M</td>\n",
       "      <td>16</td>\n",
       "      <td>Urban</td>\n",
       "      <td>&lt;= 3</td>\n",
       "      <td>True</td>\n",
       "      <td>Higher education</td>\n",
       "      <td>Upper secondary education</td>\n",
       "      <td>Civil service</td>\n",
       "      <td>Other</td>\n",
       "      <td>...</td>\n",
       "      <td>True</td>\n",
       "      <td>False</td>\n",
       "      <td>5</td>\n",
       "      <td>4</td>\n",
       "      <td>2</td>\n",
       "      <td>1</td>\n",
       "      <td>2</td>\n",
       "      <td>5</td>\n",
       "      <td>6</td>\n",
       "      <td>13</td>\n",
       "    </tr>\n",
       "    <tr>\n",
       "      <th>6</th>\n",
       "      <td>Gabriel Pereira</td>\n",
       "      <td>M</td>\n",
       "      <td>16</td>\n",
       "      <td>Urban</td>\n",
       "      <td>&lt;= 3</td>\n",
       "      <td>True</td>\n",
       "      <td>Lower secondary education</td>\n",
       "      <td>Lower secondary education</td>\n",
       "      <td>Other</td>\n",
       "      <td>Other</td>\n",
       "      <td>...</td>\n",
       "      <td>True</td>\n",
       "      <td>False</td>\n",
       "      <td>4</td>\n",
       "      <td>4</td>\n",
       "      <td>4</td>\n",
       "      <td>1</td>\n",
       "      <td>1</td>\n",
       "      <td>3</td>\n",
       "      <td>0</td>\n",
       "      <td>13</td>\n",
       "    </tr>\n",
       "    <tr>\n",
       "      <th>7</th>\n",
       "      <td>Gabriel Pereira</td>\n",
       "      <td>F</td>\n",
       "      <td>17</td>\n",
       "      <td>Urban</td>\n",
       "      <td>&gt; 3</td>\n",
       "      <td>False</td>\n",
       "      <td>Higher education</td>\n",
       "      <td>Higher education</td>\n",
       "      <td>Other</td>\n",
       "      <td>Teacher</td>\n",
       "      <td>...</td>\n",
       "      <td>False</td>\n",
       "      <td>False</td>\n",
       "      <td>4</td>\n",
       "      <td>1</td>\n",
       "      <td>4</td>\n",
       "      <td>1</td>\n",
       "      <td>1</td>\n",
       "      <td>1</td>\n",
       "      <td>2</td>\n",
       "      <td>13</td>\n",
       "    </tr>\n",
       "    <tr>\n",
       "      <th>8</th>\n",
       "      <td>Gabriel Pereira</td>\n",
       "      <td>M</td>\n",
       "      <td>15</td>\n",
       "      <td>Urban</td>\n",
       "      <td>&lt;= 3</td>\n",
       "      <td>False</td>\n",
       "      <td>Upper secondary education</td>\n",
       "      <td>Lower secondary education</td>\n",
       "      <td>Civil service</td>\n",
       "      <td>Other</td>\n",
       "      <td>...</td>\n",
       "      <td>True</td>\n",
       "      <td>False</td>\n",
       "      <td>4</td>\n",
       "      <td>2</td>\n",
       "      <td>2</td>\n",
       "      <td>1</td>\n",
       "      <td>1</td>\n",
       "      <td>1</td>\n",
       "      <td>0</td>\n",
       "      <td>17</td>\n",
       "    </tr>\n",
       "    <tr>\n",
       "      <th>9</th>\n",
       "      <td>Gabriel Pereira</td>\n",
       "      <td>M</td>\n",
       "      <td>15</td>\n",
       "      <td>Urban</td>\n",
       "      <td>&gt; 3</td>\n",
       "      <td>True</td>\n",
       "      <td>Upper secondary education</td>\n",
       "      <td>Higher education</td>\n",
       "      <td>Other</td>\n",
       "      <td>Other</td>\n",
       "      <td>...</td>\n",
       "      <td>True</td>\n",
       "      <td>False</td>\n",
       "      <td>5</td>\n",
       "      <td>5</td>\n",
       "      <td>1</td>\n",
       "      <td>1</td>\n",
       "      <td>1</td>\n",
       "      <td>5</td>\n",
       "      <td>0</td>\n",
       "      <td>13</td>\n",
       "    </tr>\n",
       "  </tbody>\n",
       "</table>\n",
       "<p>10 rows × 31 columns</p>\n",
       "</div>"
      ],
      "text/plain": [
       "            school sex  age home_area family_size  parents_cohabit  \\\n",
       "0  Gabriel Pereira   F   18     Urban         > 3            False   \n",
       "1  Gabriel Pereira   F   17     Urban         > 3             True   \n",
       "2  Gabriel Pereira   F   15     Urban        <= 3             True   \n",
       "3  Gabriel Pereira   F   15     Urban         > 3             True   \n",
       "4  Gabriel Pereira   F   16     Urban         > 3             True   \n",
       "5  Gabriel Pereira   M   16     Urban        <= 3             True   \n",
       "6  Gabriel Pereira   M   16     Urban        <= 3             True   \n",
       "7  Gabriel Pereira   F   17     Urban         > 3            False   \n",
       "8  Gabriel Pereira   M   15     Urban        <= 3            False   \n",
       "9  Gabriel Pereira   M   15     Urban         > 3             True   \n",
       "\n",
       "            education_mother           education_father occupation_mother  \\\n",
       "0           Higher education           Higher education           At home   \n",
       "1          Primary education          Primary education           At home   \n",
       "2          Primary education          Primary education           At home   \n",
       "3           Higher education  Lower secondary education        Healthcare   \n",
       "4  Upper secondary education  Upper secondary education             Other   \n",
       "5           Higher education  Upper secondary education     Civil service   \n",
       "6  Lower secondary education  Lower secondary education             Other   \n",
       "7           Higher education           Higher education             Other   \n",
       "8  Upper secondary education  Lower secondary education     Civil service   \n",
       "9  Upper secondary education           Higher education             Other   \n",
       "\n",
       "  occupation_father     ...      internet_access romantic_relationship  \\\n",
       "0           Teacher     ...                False                 False   \n",
       "1             Other     ...                 True                 False   \n",
       "2             Other     ...                 True                 False   \n",
       "3     Civil service     ...                 True                  True   \n",
       "4             Other     ...                False                 False   \n",
       "5             Other     ...                 True                 False   \n",
       "6             Other     ...                 True                 False   \n",
       "7           Teacher     ...                False                 False   \n",
       "8             Other     ...                 True                 False   \n",
       "9             Other     ...                 True                 False   \n",
       "\n",
       "  family_relationships_quality free_time going_out  alcohol_weekdays  \\\n",
       "0                            4         3         4                 1   \n",
       "1                            5         3         3                 1   \n",
       "2                            4         3         2                 2   \n",
       "3                            3         2         2                 1   \n",
       "4                            4         3         2                 1   \n",
       "5                            5         4         2                 1   \n",
       "6                            4         4         4                 1   \n",
       "7                            4         1         4                 1   \n",
       "8                            4         2         2                 1   \n",
       "9                            5         5         1                 1   \n",
       "\n",
       "   alcohol_weekend  health_status  absences  final_grade  \n",
       "0                1              3         4           11  \n",
       "1                1              3         2           11  \n",
       "2                3              3         6           12  \n",
       "3                1              5         0           14  \n",
       "4                2              5         0           13  \n",
       "5                2              5         6           13  \n",
       "6                1              3         0           13  \n",
       "7                1              1         2           13  \n",
       "8                1              1         0           17  \n",
       "9                1              5         0           13  \n",
       "\n",
       "[10 rows x 31 columns]"
      ]
     },
     "execution_count": 7,
     "metadata": {},
     "output_type": "execute_result"
    }
   ],
   "source": [
    "students.head(10)"
   ]
  },
  {
   "cell_type": "markdown",
   "metadata": {},
   "source": [
    "The full set of columns in a `DataFrame` is stored in the attribute `columns`."
   ]
  },
  {
   "cell_type": "code",
   "execution_count": 8,
   "metadata": {},
   "outputs": [
    {
     "data": {
      "text/plain": [
       "Index(['school', 'sex', 'age', 'home_area', 'family_size', 'parents_cohabit',\n",
       "       'education_mother', 'education_father', 'occupation_mother',\n",
       "       'occupation_father', 'reason', 'guardian', 'travel_time', 'study_time',\n",
       "       'failures', 'extra_school_support', 'family_support', 'extra_tutoring',\n",
       "       'extracurricular_activities', 'nursery', 'higher_education',\n",
       "       'internet_access', 'romantic_relationship',\n",
       "       'family_relationships_quality', 'free_time', 'going_out',\n",
       "       'alcohol_weekdays', 'alcohol_weekend', 'health_status', 'absences',\n",
       "       'final_grade'],\n",
       "      dtype='object')"
      ]
     },
     "execution_count": 8,
     "metadata": {},
     "output_type": "execute_result"
    }
   ],
   "source": [
    "students.columns"
   ]
  },
  {
   "cell_type": "markdown",
   "metadata": {},
   "source": [
    "Each column has an associated data type (e.g. `int` or `float`). These are stored in the attribute `dtypes`."
   ]
  },
  {
   "cell_type": "code",
   "execution_count": 9,
   "metadata": {},
   "outputs": [
    {
     "data": {
      "text/plain": [
       "school                          object\n",
       "sex                             object\n",
       "age                              int64\n",
       "home_area                       object\n",
       "family_size                     object\n",
       "parents_cohabit                   bool\n",
       "education_mother                object\n",
       "education_father                object\n",
       "occupation_mother               object\n",
       "occupation_father               object\n",
       "reason                          object\n",
       "guardian                        object\n",
       "travel_time                     object\n",
       "study_time                      object\n",
       "failures                        object\n",
       "extra_school_support              bool\n",
       "family_support                    bool\n",
       "extra_tutoring                    bool\n",
       "extracurricular_activities        bool\n",
       "nursery                           bool\n",
       "higher_education                  bool\n",
       "internet_access                   bool\n",
       "romantic_relationship             bool\n",
       "family_relationships_quality     int64\n",
       "free_time                        int64\n",
       "going_out                        int64\n",
       "alcohol_weekdays                 int64\n",
       "alcohol_weekend                  int64\n",
       "health_status                    int64\n",
       "absences                         int64\n",
       "final_grade                      int64\n",
       "dtype: object"
      ]
     },
     "execution_count": 9,
     "metadata": {},
     "output_type": "execute_result"
    }
   ],
   "source": [
    "students.dtypes"
   ]
  },
  {
   "cell_type": "markdown",
   "metadata": {},
   "source": [
    "Note how `pandas` stores `str`ings as `object`s.\n",
    "\n",
    "Type-specific methods can be accessed using attributes such as `str` (for `str`ings) and `dt` (for `datetime` objects representing dates and times)."
   ]
  },
  {
   "cell_type": "code",
   "execution_count": 10,
   "metadata": {},
   "outputs": [
    {
     "data": {
      "text/plain": [
       "0       True\n",
       "1       True\n",
       "2       True\n",
       "3       True\n",
       "4       True\n",
       "5       True\n",
       "6       True\n",
       "7       True\n",
       "8       True\n",
       "9       True\n",
       "10      True\n",
       "11      True\n",
       "12      True\n",
       "13      True\n",
       "14      True\n",
       "15      True\n",
       "16      True\n",
       "17      True\n",
       "18      True\n",
       "19      True\n",
       "20      True\n",
       "21      True\n",
       "22      True\n",
       "23      True\n",
       "24      True\n",
       "25      True\n",
       "26      True\n",
       "27      True\n",
       "28      True\n",
       "29      True\n",
       "       ...  \n",
       "619    False\n",
       "620    False\n",
       "621    False\n",
       "622    False\n",
       "623    False\n",
       "624    False\n",
       "625    False\n",
       "626    False\n",
       "627    False\n",
       "628    False\n",
       "629    False\n",
       "630    False\n",
       "631    False\n",
       "632    False\n",
       "633    False\n",
       "634    False\n",
       "635    False\n",
       "636    False\n",
       "637    False\n",
       "638    False\n",
       "639    False\n",
       "640    False\n",
       "641    False\n",
       "642    False\n",
       "643    False\n",
       "644    False\n",
       "645    False\n",
       "646    False\n",
       "647    False\n",
       "648    False\n",
       "Name: school, Length: 649, dtype: bool"
      ]
     },
     "execution_count": 10,
     "metadata": {},
     "output_type": "execute_result"
    }
   ],
   "source": [
    "students['school'].str.contains('Pereira')"
   ]
  },
  {
   "cell_type": "markdown",
   "metadata": {},
   "source": [
    "### Selecting rows and columns"
   ]
  },
  {
   "cell_type": "markdown",
   "metadata": {},
   "source": [
    "#### Boolean filtering\n",
    "\n",
    "Using `[]` and a `bool`ean condition, we can **select rows** that satisfy certain conditions."
   ]
  },
  {
   "cell_type": "code",
   "execution_count": 11,
   "metadata": {},
   "outputs": [
    {
     "data": {
      "text/html": [
       "<div>\n",
       "<style>\n",
       "    .dataframe thead tr:only-child th {\n",
       "        text-align: right;\n",
       "    }\n",
       "\n",
       "    .dataframe thead th {\n",
       "        text-align: left;\n",
       "    }\n",
       "\n",
       "    .dataframe tbody tr th {\n",
       "        vertical-align: top;\n",
       "    }\n",
       "</style>\n",
       "<table border=\"1\" class=\"dataframe\">\n",
       "  <thead>\n",
       "    <tr style=\"text-align: right;\">\n",
       "      <th></th>\n",
       "      <th>school</th>\n",
       "      <th>sex</th>\n",
       "      <th>age</th>\n",
       "      <th>home_area</th>\n",
       "      <th>family_size</th>\n",
       "      <th>parents_cohabit</th>\n",
       "      <th>education_mother</th>\n",
       "      <th>education_father</th>\n",
       "      <th>occupation_mother</th>\n",
       "      <th>occupation_father</th>\n",
       "      <th>...</th>\n",
       "      <th>internet_access</th>\n",
       "      <th>romantic_relationship</th>\n",
       "      <th>family_relationships_quality</th>\n",
       "      <th>free_time</th>\n",
       "      <th>going_out</th>\n",
       "      <th>alcohol_weekdays</th>\n",
       "      <th>alcohol_weekend</th>\n",
       "      <th>health_status</th>\n",
       "      <th>absences</th>\n",
       "      <th>final_grade</th>\n",
       "    </tr>\n",
       "  </thead>\n",
       "  <tbody>\n",
       "    <tr>\n",
       "      <th>0</th>\n",
       "      <td>Gabriel Pereira</td>\n",
       "      <td>F</td>\n",
       "      <td>18</td>\n",
       "      <td>Urban</td>\n",
       "      <td>&gt; 3</td>\n",
       "      <td>False</td>\n",
       "      <td>Higher education</td>\n",
       "      <td>Higher education</td>\n",
       "      <td>At home</td>\n",
       "      <td>Teacher</td>\n",
       "      <td>...</td>\n",
       "      <td>False</td>\n",
       "      <td>False</td>\n",
       "      <td>4</td>\n",
       "      <td>3</td>\n",
       "      <td>4</td>\n",
       "      <td>1</td>\n",
       "      <td>1</td>\n",
       "      <td>3</td>\n",
       "      <td>4</td>\n",
       "      <td>11</td>\n",
       "    </tr>\n",
       "    <tr>\n",
       "      <th>1</th>\n",
       "      <td>Gabriel Pereira</td>\n",
       "      <td>F</td>\n",
       "      <td>17</td>\n",
       "      <td>Urban</td>\n",
       "      <td>&gt; 3</td>\n",
       "      <td>True</td>\n",
       "      <td>Primary education</td>\n",
       "      <td>Primary education</td>\n",
       "      <td>At home</td>\n",
       "      <td>Other</td>\n",
       "      <td>...</td>\n",
       "      <td>True</td>\n",
       "      <td>False</td>\n",
       "      <td>5</td>\n",
       "      <td>3</td>\n",
       "      <td>3</td>\n",
       "      <td>1</td>\n",
       "      <td>1</td>\n",
       "      <td>3</td>\n",
       "      <td>2</td>\n",
       "      <td>11</td>\n",
       "    </tr>\n",
       "    <tr>\n",
       "      <th>2</th>\n",
       "      <td>Gabriel Pereira</td>\n",
       "      <td>F</td>\n",
       "      <td>15</td>\n",
       "      <td>Urban</td>\n",
       "      <td>&lt;= 3</td>\n",
       "      <td>True</td>\n",
       "      <td>Primary education</td>\n",
       "      <td>Primary education</td>\n",
       "      <td>At home</td>\n",
       "      <td>Other</td>\n",
       "      <td>...</td>\n",
       "      <td>True</td>\n",
       "      <td>False</td>\n",
       "      <td>4</td>\n",
       "      <td>3</td>\n",
       "      <td>2</td>\n",
       "      <td>2</td>\n",
       "      <td>3</td>\n",
       "      <td>3</td>\n",
       "      <td>6</td>\n",
       "      <td>12</td>\n",
       "    </tr>\n",
       "    <tr>\n",
       "      <th>3</th>\n",
       "      <td>Gabriel Pereira</td>\n",
       "      <td>F</td>\n",
       "      <td>15</td>\n",
       "      <td>Urban</td>\n",
       "      <td>&gt; 3</td>\n",
       "      <td>True</td>\n",
       "      <td>Higher education</td>\n",
       "      <td>Lower secondary education</td>\n",
       "      <td>Healthcare</td>\n",
       "      <td>Civil service</td>\n",
       "      <td>...</td>\n",
       "      <td>True</td>\n",
       "      <td>True</td>\n",
       "      <td>3</td>\n",
       "      <td>2</td>\n",
       "      <td>2</td>\n",
       "      <td>1</td>\n",
       "      <td>1</td>\n",
       "      <td>5</td>\n",
       "      <td>0</td>\n",
       "      <td>14</td>\n",
       "    </tr>\n",
       "    <tr>\n",
       "      <th>4</th>\n",
       "      <td>Gabriel Pereira</td>\n",
       "      <td>F</td>\n",
       "      <td>16</td>\n",
       "      <td>Urban</td>\n",
       "      <td>&gt; 3</td>\n",
       "      <td>True</td>\n",
       "      <td>Upper secondary education</td>\n",
       "      <td>Upper secondary education</td>\n",
       "      <td>Other</td>\n",
       "      <td>Other</td>\n",
       "      <td>...</td>\n",
       "      <td>False</td>\n",
       "      <td>False</td>\n",
       "      <td>4</td>\n",
       "      <td>3</td>\n",
       "      <td>2</td>\n",
       "      <td>1</td>\n",
       "      <td>2</td>\n",
       "      <td>5</td>\n",
       "      <td>0</td>\n",
       "      <td>13</td>\n",
       "    </tr>\n",
       "  </tbody>\n",
       "</table>\n",
       "<p>5 rows × 31 columns</p>\n",
       "</div>"
      ],
      "text/plain": [
       "            school sex  age home_area family_size  parents_cohabit  \\\n",
       "0  Gabriel Pereira   F   18     Urban         > 3            False   \n",
       "1  Gabriel Pereira   F   17     Urban         > 3             True   \n",
       "2  Gabriel Pereira   F   15     Urban        <= 3             True   \n",
       "3  Gabriel Pereira   F   15     Urban         > 3             True   \n",
       "4  Gabriel Pereira   F   16     Urban         > 3             True   \n",
       "\n",
       "            education_mother           education_father occupation_mother  \\\n",
       "0           Higher education           Higher education           At home   \n",
       "1          Primary education          Primary education           At home   \n",
       "2          Primary education          Primary education           At home   \n",
       "3           Higher education  Lower secondary education        Healthcare   \n",
       "4  Upper secondary education  Upper secondary education             Other   \n",
       "\n",
       "  occupation_father     ...      internet_access romantic_relationship  \\\n",
       "0           Teacher     ...                False                 False   \n",
       "1             Other     ...                 True                 False   \n",
       "2             Other     ...                 True                 False   \n",
       "3     Civil service     ...                 True                  True   \n",
       "4             Other     ...                False                 False   \n",
       "\n",
       "  family_relationships_quality free_time going_out  alcohol_weekdays  \\\n",
       "0                            4         3         4                 1   \n",
       "1                            5         3         3                 1   \n",
       "2                            4         3         2                 2   \n",
       "3                            3         2         2                 1   \n",
       "4                            4         3         2                 1   \n",
       "\n",
       "   alcohol_weekend  health_status  absences  final_grade  \n",
       "0                1              3         4           11  \n",
       "1                1              3         2           11  \n",
       "2                3              3         6           12  \n",
       "3                1              5         0           14  \n",
       "4                2              5         0           13  \n",
       "\n",
       "[5 rows x 31 columns]"
      ]
     },
     "execution_count": 11,
     "metadata": {},
     "output_type": "execute_result"
    }
   ],
   "source": [
    "students[students['age'] <= 18].head()"
   ]
  },
  {
   "cell_type": "markdown",
   "metadata": {},
   "source": [
    "Note that the result of this operation is another `DataFrame`, meaning that we can call methods such as `head`.\n",
    "\n",
    "We can also combine multiple conditions."
   ]
  },
  {
   "cell_type": "code",
   "execution_count": 12,
   "metadata": {},
   "outputs": [
    {
     "data": {
      "text/html": [
       "<div>\n",
       "<style>\n",
       "    .dataframe thead tr:only-child th {\n",
       "        text-align: right;\n",
       "    }\n",
       "\n",
       "    .dataframe thead th {\n",
       "        text-align: left;\n",
       "    }\n",
       "\n",
       "    .dataframe tbody tr th {\n",
       "        vertical-align: top;\n",
       "    }\n",
       "</style>\n",
       "<table border=\"1\" class=\"dataframe\">\n",
       "  <thead>\n",
       "    <tr style=\"text-align: right;\">\n",
       "      <th></th>\n",
       "      <th>school</th>\n",
       "      <th>sex</th>\n",
       "      <th>age</th>\n",
       "      <th>home_area</th>\n",
       "      <th>family_size</th>\n",
       "      <th>parents_cohabit</th>\n",
       "      <th>education_mother</th>\n",
       "      <th>education_father</th>\n",
       "      <th>occupation_mother</th>\n",
       "      <th>occupation_father</th>\n",
       "      <th>...</th>\n",
       "      <th>internet_access</th>\n",
       "      <th>romantic_relationship</th>\n",
       "      <th>family_relationships_quality</th>\n",
       "      <th>free_time</th>\n",
       "      <th>going_out</th>\n",
       "      <th>alcohol_weekdays</th>\n",
       "      <th>alcohol_weekend</th>\n",
       "      <th>health_status</th>\n",
       "      <th>absences</th>\n",
       "      <th>final_grade</th>\n",
       "    </tr>\n",
       "  </thead>\n",
       "  <tbody>\n",
       "    <tr>\n",
       "      <th>3</th>\n",
       "      <td>Gabriel Pereira</td>\n",
       "      <td>F</td>\n",
       "      <td>15</td>\n",
       "      <td>Urban</td>\n",
       "      <td>&gt; 3</td>\n",
       "      <td>True</td>\n",
       "      <td>Higher education</td>\n",
       "      <td>Lower secondary education</td>\n",
       "      <td>Healthcare</td>\n",
       "      <td>Civil service</td>\n",
       "      <td>...</td>\n",
       "      <td>True</td>\n",
       "      <td>True</td>\n",
       "      <td>3</td>\n",
       "      <td>2</td>\n",
       "      <td>2</td>\n",
       "      <td>1</td>\n",
       "      <td>1</td>\n",
       "      <td>5</td>\n",
       "      <td>0</td>\n",
       "      <td>14</td>\n",
       "    </tr>\n",
       "    <tr>\n",
       "      <th>14</th>\n",
       "      <td>Gabriel Pereira</td>\n",
       "      <td>M</td>\n",
       "      <td>15</td>\n",
       "      <td>Urban</td>\n",
       "      <td>&gt; 3</td>\n",
       "      <td>False</td>\n",
       "      <td>Lower secondary education</td>\n",
       "      <td>Lower secondary education</td>\n",
       "      <td>Other</td>\n",
       "      <td>Other</td>\n",
       "      <td>...</td>\n",
       "      <td>True</td>\n",
       "      <td>True</td>\n",
       "      <td>4</td>\n",
       "      <td>5</td>\n",
       "      <td>2</td>\n",
       "      <td>1</td>\n",
       "      <td>1</td>\n",
       "      <td>3</td>\n",
       "      <td>0</td>\n",
       "      <td>15</td>\n",
       "    </tr>\n",
       "    <tr>\n",
       "      <th>29</th>\n",
       "      <td>Gabriel Pereira</td>\n",
       "      <td>M</td>\n",
       "      <td>16</td>\n",
       "      <td>Urban</td>\n",
       "      <td>&gt; 3</td>\n",
       "      <td>True</td>\n",
       "      <td>Higher education</td>\n",
       "      <td>Higher education</td>\n",
       "      <td>Teacher</td>\n",
       "      <td>Teacher</td>\n",
       "      <td>...</td>\n",
       "      <td>True</td>\n",
       "      <td>True</td>\n",
       "      <td>4</td>\n",
       "      <td>4</td>\n",
       "      <td>5</td>\n",
       "      <td>5</td>\n",
       "      <td>5</td>\n",
       "      <td>5</td>\n",
       "      <td>4</td>\n",
       "      <td>12</td>\n",
       "    </tr>\n",
       "    <tr>\n",
       "      <th>32</th>\n",
       "      <td>Gabriel Pereira</td>\n",
       "      <td>M</td>\n",
       "      <td>15</td>\n",
       "      <td>Rural</td>\n",
       "      <td>&gt; 3</td>\n",
       "      <td>True</td>\n",
       "      <td>Higher education</td>\n",
       "      <td>Upper secondary education</td>\n",
       "      <td>Teacher</td>\n",
       "      <td>At home</td>\n",
       "      <td>...</td>\n",
       "      <td>True</td>\n",
       "      <td>True</td>\n",
       "      <td>4</td>\n",
       "      <td>5</td>\n",
       "      <td>2</td>\n",
       "      <td>1</td>\n",
       "      <td>1</td>\n",
       "      <td>5</td>\n",
       "      <td>0</td>\n",
       "      <td>15</td>\n",
       "    </tr>\n",
       "    <tr>\n",
       "      <th>37</th>\n",
       "      <td>Gabriel Pereira</td>\n",
       "      <td>M</td>\n",
       "      <td>16</td>\n",
       "      <td>Rural</td>\n",
       "      <td>&gt; 3</td>\n",
       "      <td>False</td>\n",
       "      <td>Higher education</td>\n",
       "      <td>Higher education</td>\n",
       "      <td>Other</td>\n",
       "      <td>Teacher</td>\n",
       "      <td>...</td>\n",
       "      <td>True</td>\n",
       "      <td>True</td>\n",
       "      <td>2</td>\n",
       "      <td>4</td>\n",
       "      <td>3</td>\n",
       "      <td>1</td>\n",
       "      <td>1</td>\n",
       "      <td>5</td>\n",
       "      <td>4</td>\n",
       "      <td>13</td>\n",
       "    </tr>\n",
       "  </tbody>\n",
       "</table>\n",
       "<p>5 rows × 31 columns</p>\n",
       "</div>"
      ],
      "text/plain": [
       "             school sex  age home_area family_size  parents_cohabit  \\\n",
       "3   Gabriel Pereira   F   15     Urban         > 3             True   \n",
       "14  Gabriel Pereira   M   15     Urban         > 3            False   \n",
       "29  Gabriel Pereira   M   16     Urban         > 3             True   \n",
       "32  Gabriel Pereira   M   15     Rural         > 3             True   \n",
       "37  Gabriel Pereira   M   16     Rural         > 3            False   \n",
       "\n",
       "             education_mother           education_father occupation_mother  \\\n",
       "3            Higher education  Lower secondary education        Healthcare   \n",
       "14  Lower secondary education  Lower secondary education             Other   \n",
       "29           Higher education           Higher education           Teacher   \n",
       "32           Higher education  Upper secondary education           Teacher   \n",
       "37           Higher education           Higher education             Other   \n",
       "\n",
       "   occupation_father     ...      internet_access romantic_relationship  \\\n",
       "3      Civil service     ...                 True                  True   \n",
       "14             Other     ...                 True                  True   \n",
       "29           Teacher     ...                 True                  True   \n",
       "32           At home     ...                 True                  True   \n",
       "37           Teacher     ...                 True                  True   \n",
       "\n",
       "   family_relationships_quality free_time going_out  alcohol_weekdays  \\\n",
       "3                             3         2         2                 1   \n",
       "14                            4         5         2                 1   \n",
       "29                            4         4         5                 5   \n",
       "32                            4         5         2                 1   \n",
       "37                            2         4         3                 1   \n",
       "\n",
       "    alcohol_weekend  health_status  absences  final_grade  \n",
       "3                 1              5         0           14  \n",
       "14                1              3         0           15  \n",
       "29                5              5         4           12  \n",
       "32                1              5         0           15  \n",
       "37                1              5         4           13  \n",
       "\n",
       "[5 rows x 31 columns]"
      ]
     },
     "execution_count": 12,
     "metadata": {},
     "output_type": "execute_result"
    }
   ],
   "source": [
    "students[(students['age'] <= 18) & (students['romantic_relationship'])].head()"
   ]
  },
  {
   "cell_type": "code",
   "execution_count": 13,
   "metadata": {},
   "outputs": [
    {
     "data": {
      "text/html": [
       "<div>\n",
       "<style>\n",
       "    .dataframe thead tr:only-child th {\n",
       "        text-align: right;\n",
       "    }\n",
       "\n",
       "    .dataframe thead th {\n",
       "        text-align: left;\n",
       "    }\n",
       "\n",
       "    .dataframe tbody tr th {\n",
       "        vertical-align: top;\n",
       "    }\n",
       "</style>\n",
       "<table border=\"1\" class=\"dataframe\">\n",
       "  <thead>\n",
       "    <tr style=\"text-align: right;\">\n",
       "      <th></th>\n",
       "      <th>school</th>\n",
       "      <th>sex</th>\n",
       "      <th>age</th>\n",
       "      <th>home_area</th>\n",
       "      <th>family_size</th>\n",
       "      <th>parents_cohabit</th>\n",
       "      <th>education_mother</th>\n",
       "      <th>education_father</th>\n",
       "      <th>occupation_mother</th>\n",
       "      <th>occupation_father</th>\n",
       "      <th>...</th>\n",
       "      <th>internet_access</th>\n",
       "      <th>romantic_relationship</th>\n",
       "      <th>family_relationships_quality</th>\n",
       "      <th>free_time</th>\n",
       "      <th>going_out</th>\n",
       "      <th>alcohol_weekdays</th>\n",
       "      <th>alcohol_weekend</th>\n",
       "      <th>health_status</th>\n",
       "      <th>absences</th>\n",
       "      <th>final_grade</th>\n",
       "    </tr>\n",
       "  </thead>\n",
       "  <tbody>\n",
       "    <tr>\n",
       "      <th>2</th>\n",
       "      <td>Gabriel Pereira</td>\n",
       "      <td>F</td>\n",
       "      <td>15</td>\n",
       "      <td>Urban</td>\n",
       "      <td>&lt;= 3</td>\n",
       "      <td>True</td>\n",
       "      <td>Primary education</td>\n",
       "      <td>Primary education</td>\n",
       "      <td>At home</td>\n",
       "      <td>Other</td>\n",
       "      <td>...</td>\n",
       "      <td>True</td>\n",
       "      <td>False</td>\n",
       "      <td>4</td>\n",
       "      <td>3</td>\n",
       "      <td>2</td>\n",
       "      <td>2</td>\n",
       "      <td>3</td>\n",
       "      <td>3</td>\n",
       "      <td>6</td>\n",
       "      <td>12</td>\n",
       "    </tr>\n",
       "    <tr>\n",
       "      <th>3</th>\n",
       "      <td>Gabriel Pereira</td>\n",
       "      <td>F</td>\n",
       "      <td>15</td>\n",
       "      <td>Urban</td>\n",
       "      <td>&gt; 3</td>\n",
       "      <td>True</td>\n",
       "      <td>Higher education</td>\n",
       "      <td>Lower secondary education</td>\n",
       "      <td>Healthcare</td>\n",
       "      <td>Civil service</td>\n",
       "      <td>...</td>\n",
       "      <td>True</td>\n",
       "      <td>True</td>\n",
       "      <td>3</td>\n",
       "      <td>2</td>\n",
       "      <td>2</td>\n",
       "      <td>1</td>\n",
       "      <td>1</td>\n",
       "      <td>5</td>\n",
       "      <td>0</td>\n",
       "      <td>14</td>\n",
       "    </tr>\n",
       "    <tr>\n",
       "      <th>4</th>\n",
       "      <td>Gabriel Pereira</td>\n",
       "      <td>F</td>\n",
       "      <td>16</td>\n",
       "      <td>Urban</td>\n",
       "      <td>&gt; 3</td>\n",
       "      <td>True</td>\n",
       "      <td>Upper secondary education</td>\n",
       "      <td>Upper secondary education</td>\n",
       "      <td>Other</td>\n",
       "      <td>Other</td>\n",
       "      <td>...</td>\n",
       "      <td>False</td>\n",
       "      <td>False</td>\n",
       "      <td>4</td>\n",
       "      <td>3</td>\n",
       "      <td>2</td>\n",
       "      <td>1</td>\n",
       "      <td>2</td>\n",
       "      <td>5</td>\n",
       "      <td>0</td>\n",
       "      <td>13</td>\n",
       "    </tr>\n",
       "    <tr>\n",
       "      <th>5</th>\n",
       "      <td>Gabriel Pereira</td>\n",
       "      <td>M</td>\n",
       "      <td>16</td>\n",
       "      <td>Urban</td>\n",
       "      <td>&lt;= 3</td>\n",
       "      <td>True</td>\n",
       "      <td>Higher education</td>\n",
       "      <td>Upper secondary education</td>\n",
       "      <td>Civil service</td>\n",
       "      <td>Other</td>\n",
       "      <td>...</td>\n",
       "      <td>True</td>\n",
       "      <td>False</td>\n",
       "      <td>5</td>\n",
       "      <td>4</td>\n",
       "      <td>2</td>\n",
       "      <td>1</td>\n",
       "      <td>2</td>\n",
       "      <td>5</td>\n",
       "      <td>6</td>\n",
       "      <td>13</td>\n",
       "    </tr>\n",
       "    <tr>\n",
       "      <th>6</th>\n",
       "      <td>Gabriel Pereira</td>\n",
       "      <td>M</td>\n",
       "      <td>16</td>\n",
       "      <td>Urban</td>\n",
       "      <td>&lt;= 3</td>\n",
       "      <td>True</td>\n",
       "      <td>Lower secondary education</td>\n",
       "      <td>Lower secondary education</td>\n",
       "      <td>Other</td>\n",
       "      <td>Other</td>\n",
       "      <td>...</td>\n",
       "      <td>True</td>\n",
       "      <td>False</td>\n",
       "      <td>4</td>\n",
       "      <td>4</td>\n",
       "      <td>4</td>\n",
       "      <td>1</td>\n",
       "      <td>1</td>\n",
       "      <td>3</td>\n",
       "      <td>0</td>\n",
       "      <td>13</td>\n",
       "    </tr>\n",
       "  </tbody>\n",
       "</table>\n",
       "<p>5 rows × 31 columns</p>\n",
       "</div>"
      ],
      "text/plain": [
       "            school sex  age home_area family_size  parents_cohabit  \\\n",
       "2  Gabriel Pereira   F   15     Urban        <= 3             True   \n",
       "3  Gabriel Pereira   F   15     Urban         > 3             True   \n",
       "4  Gabriel Pereira   F   16     Urban         > 3             True   \n",
       "5  Gabriel Pereira   M   16     Urban        <= 3             True   \n",
       "6  Gabriel Pereira   M   16     Urban        <= 3             True   \n",
       "\n",
       "            education_mother           education_father occupation_mother  \\\n",
       "2          Primary education          Primary education           At home   \n",
       "3           Higher education  Lower secondary education        Healthcare   \n",
       "4  Upper secondary education  Upper secondary education             Other   \n",
       "5           Higher education  Upper secondary education     Civil service   \n",
       "6  Lower secondary education  Lower secondary education             Other   \n",
       "\n",
       "  occupation_father     ...      internet_access romantic_relationship  \\\n",
       "2             Other     ...                 True                 False   \n",
       "3     Civil service     ...                 True                  True   \n",
       "4             Other     ...                False                 False   \n",
       "5             Other     ...                 True                 False   \n",
       "6             Other     ...                 True                 False   \n",
       "\n",
       "  family_relationships_quality free_time going_out  alcohol_weekdays  \\\n",
       "2                            4         3         2                 2   \n",
       "3                            3         2         2                 1   \n",
       "4                            4         3         2                 1   \n",
       "5                            5         4         2                 1   \n",
       "6                            4         4         4                 1   \n",
       "\n",
       "   alcohol_weekend  health_status  absences  final_grade  \n",
       "2                3              3         6           12  \n",
       "3                1              5         0           14  \n",
       "4                2              5         0           13  \n",
       "5                2              5         6           13  \n",
       "6                1              3         0           13  \n",
       "\n",
       "[5 rows x 31 columns]"
      ]
     },
     "execution_count": 13,
     "metadata": {},
     "output_type": "execute_result"
    }
   ],
   "source": [
    "students[(students['age'] <= 16) | (students['age'] >= 21)].head()"
   ]
  },
  {
   "cell_type": "markdown",
   "metadata": {},
   "source": [
    "#### Slicing"
   ]
  },
  {
   "cell_type": "markdown",
   "metadata": {},
   "source": [
    "Using `[]` and a single `str`ing, we can **select specific columns**."
   ]
  },
  {
   "cell_type": "code",
   "execution_count": 14,
   "metadata": {},
   "outputs": [
    {
     "data": {
      "text/plain": [
       "0           Gabriel Pereira\n",
       "1           Gabriel Pereira\n",
       "2           Gabriel Pereira\n",
       "3           Gabriel Pereira\n",
       "4           Gabriel Pereira\n",
       "5           Gabriel Pereira\n",
       "6           Gabriel Pereira\n",
       "7           Gabriel Pereira\n",
       "8           Gabriel Pereira\n",
       "9           Gabriel Pereira\n",
       "10          Gabriel Pereira\n",
       "11          Gabriel Pereira\n",
       "12          Gabriel Pereira\n",
       "13          Gabriel Pereira\n",
       "14          Gabriel Pereira\n",
       "15          Gabriel Pereira\n",
       "16          Gabriel Pereira\n",
       "17          Gabriel Pereira\n",
       "18          Gabriel Pereira\n",
       "19          Gabriel Pereira\n",
       "20          Gabriel Pereira\n",
       "21          Gabriel Pereira\n",
       "22          Gabriel Pereira\n",
       "23          Gabriel Pereira\n",
       "24          Gabriel Pereira\n",
       "25          Gabriel Pereira\n",
       "26          Gabriel Pereira\n",
       "27          Gabriel Pereira\n",
       "28          Gabriel Pereira\n",
       "29          Gabriel Pereira\n",
       "               ...         \n",
       "619    Mouzinho da Silveira\n",
       "620    Mouzinho da Silveira\n",
       "621    Mouzinho da Silveira\n",
       "622    Mouzinho da Silveira\n",
       "623    Mouzinho da Silveira\n",
       "624    Mouzinho da Silveira\n",
       "625    Mouzinho da Silveira\n",
       "626    Mouzinho da Silveira\n",
       "627    Mouzinho da Silveira\n",
       "628    Mouzinho da Silveira\n",
       "629    Mouzinho da Silveira\n",
       "630    Mouzinho da Silveira\n",
       "631    Mouzinho da Silveira\n",
       "632    Mouzinho da Silveira\n",
       "633    Mouzinho da Silveira\n",
       "634    Mouzinho da Silveira\n",
       "635    Mouzinho da Silveira\n",
       "636    Mouzinho da Silveira\n",
       "637    Mouzinho da Silveira\n",
       "638    Mouzinho da Silveira\n",
       "639    Mouzinho da Silveira\n",
       "640    Mouzinho da Silveira\n",
       "641    Mouzinho da Silveira\n",
       "642    Mouzinho da Silveira\n",
       "643    Mouzinho da Silveira\n",
       "644    Mouzinho da Silveira\n",
       "645    Mouzinho da Silveira\n",
       "646    Mouzinho da Silveira\n",
       "647    Mouzinho da Silveira\n",
       "648    Mouzinho da Silveira\n",
       "Name: school, Length: 649, dtype: object"
      ]
     },
     "execution_count": 14,
     "metadata": {},
     "output_type": "execute_result"
    }
   ],
   "source": [
    "students['school']"
   ]
  },
  {
   "cell_type": "markdown",
   "metadata": {},
   "source": [
    "Alternatively, we can access columns using the `.` notation."
   ]
  },
  {
   "cell_type": "code",
   "execution_count": 15,
   "metadata": {},
   "outputs": [
    {
     "data": {
      "text/plain": [
       "0           Gabriel Pereira\n",
       "1           Gabriel Pereira\n",
       "2           Gabriel Pereira\n",
       "3           Gabriel Pereira\n",
       "4           Gabriel Pereira\n",
       "5           Gabriel Pereira\n",
       "6           Gabriel Pereira\n",
       "7           Gabriel Pereira\n",
       "8           Gabriel Pereira\n",
       "9           Gabriel Pereira\n",
       "10          Gabriel Pereira\n",
       "11          Gabriel Pereira\n",
       "12          Gabriel Pereira\n",
       "13          Gabriel Pereira\n",
       "14          Gabriel Pereira\n",
       "15          Gabriel Pereira\n",
       "16          Gabriel Pereira\n",
       "17          Gabriel Pereira\n",
       "18          Gabriel Pereira\n",
       "19          Gabriel Pereira\n",
       "20          Gabriel Pereira\n",
       "21          Gabriel Pereira\n",
       "22          Gabriel Pereira\n",
       "23          Gabriel Pereira\n",
       "24          Gabriel Pereira\n",
       "25          Gabriel Pereira\n",
       "26          Gabriel Pereira\n",
       "27          Gabriel Pereira\n",
       "28          Gabriel Pereira\n",
       "29          Gabriel Pereira\n",
       "               ...         \n",
       "619    Mouzinho da Silveira\n",
       "620    Mouzinho da Silveira\n",
       "621    Mouzinho da Silveira\n",
       "622    Mouzinho da Silveira\n",
       "623    Mouzinho da Silveira\n",
       "624    Mouzinho da Silveira\n",
       "625    Mouzinho da Silveira\n",
       "626    Mouzinho da Silveira\n",
       "627    Mouzinho da Silveira\n",
       "628    Mouzinho da Silveira\n",
       "629    Mouzinho da Silveira\n",
       "630    Mouzinho da Silveira\n",
       "631    Mouzinho da Silveira\n",
       "632    Mouzinho da Silveira\n",
       "633    Mouzinho da Silveira\n",
       "634    Mouzinho da Silveira\n",
       "635    Mouzinho da Silveira\n",
       "636    Mouzinho da Silveira\n",
       "637    Mouzinho da Silveira\n",
       "638    Mouzinho da Silveira\n",
       "639    Mouzinho da Silveira\n",
       "640    Mouzinho da Silveira\n",
       "641    Mouzinho da Silveira\n",
       "642    Mouzinho da Silveira\n",
       "643    Mouzinho da Silveira\n",
       "644    Mouzinho da Silveira\n",
       "645    Mouzinho da Silveira\n",
       "646    Mouzinho da Silveira\n",
       "647    Mouzinho da Silveira\n",
       "648    Mouzinho da Silveira\n",
       "Name: school, Length: 649, dtype: object"
      ]
     },
     "execution_count": 15,
     "metadata": {},
     "output_type": "execute_result"
    }
   ],
   "source": [
    "students.school"
   ]
  },
  {
   "cell_type": "markdown",
   "metadata": {},
   "source": [
    "Since everything in Python is an object, what's the type of the column we've just selected?"
   ]
  },
  {
   "cell_type": "code",
   "execution_count": 16,
   "metadata": {},
   "outputs": [
    {
     "data": {
      "text/plain": [
       "pandas.core.series.Series"
      ]
     },
     "execution_count": 16,
     "metadata": {},
     "output_type": "execute_result"
    }
   ],
   "source": [
    "type(students['school'])"
   ]
  },
  {
   "cell_type": "markdown",
   "metadata": {},
   "source": [
    "Using `[]` and a `list` of `str`ings, we can also **select multiple columns** at the same time."
   ]
  },
  {
   "cell_type": "code",
   "execution_count": 17,
   "metadata": {},
   "outputs": [
    {
     "data": {
      "text/html": [
       "<div>\n",
       "<style>\n",
       "    .dataframe thead tr:only-child th {\n",
       "        text-align: right;\n",
       "    }\n",
       "\n",
       "    .dataframe thead th {\n",
       "        text-align: left;\n",
       "    }\n",
       "\n",
       "    .dataframe tbody tr th {\n",
       "        vertical-align: top;\n",
       "    }\n",
       "</style>\n",
       "<table border=\"1\" class=\"dataframe\">\n",
       "  <thead>\n",
       "    <tr style=\"text-align: right;\">\n",
       "      <th></th>\n",
       "      <th>sex</th>\n",
       "      <th>age</th>\n",
       "    </tr>\n",
       "  </thead>\n",
       "  <tbody>\n",
       "    <tr>\n",
       "      <th>0</th>\n",
       "      <td>F</td>\n",
       "      <td>18</td>\n",
       "    </tr>\n",
       "    <tr>\n",
       "      <th>1</th>\n",
       "      <td>F</td>\n",
       "      <td>17</td>\n",
       "    </tr>\n",
       "    <tr>\n",
       "      <th>2</th>\n",
       "      <td>F</td>\n",
       "      <td>15</td>\n",
       "    </tr>\n",
       "    <tr>\n",
       "      <th>3</th>\n",
       "      <td>F</td>\n",
       "      <td>15</td>\n",
       "    </tr>\n",
       "    <tr>\n",
       "      <th>4</th>\n",
       "      <td>F</td>\n",
       "      <td>16</td>\n",
       "    </tr>\n",
       "    <tr>\n",
       "      <th>5</th>\n",
       "      <td>M</td>\n",
       "      <td>16</td>\n",
       "    </tr>\n",
       "    <tr>\n",
       "      <th>6</th>\n",
       "      <td>M</td>\n",
       "      <td>16</td>\n",
       "    </tr>\n",
       "    <tr>\n",
       "      <th>7</th>\n",
       "      <td>F</td>\n",
       "      <td>17</td>\n",
       "    </tr>\n",
       "    <tr>\n",
       "      <th>8</th>\n",
       "      <td>M</td>\n",
       "      <td>15</td>\n",
       "    </tr>\n",
       "    <tr>\n",
       "      <th>9</th>\n",
       "      <td>M</td>\n",
       "      <td>15</td>\n",
       "    </tr>\n",
       "    <tr>\n",
       "      <th>10</th>\n",
       "      <td>F</td>\n",
       "      <td>15</td>\n",
       "    </tr>\n",
       "    <tr>\n",
       "      <th>11</th>\n",
       "      <td>F</td>\n",
       "      <td>15</td>\n",
       "    </tr>\n",
       "    <tr>\n",
       "      <th>12</th>\n",
       "      <td>M</td>\n",
       "      <td>15</td>\n",
       "    </tr>\n",
       "    <tr>\n",
       "      <th>13</th>\n",
       "      <td>M</td>\n",
       "      <td>15</td>\n",
       "    </tr>\n",
       "    <tr>\n",
       "      <th>14</th>\n",
       "      <td>M</td>\n",
       "      <td>15</td>\n",
       "    </tr>\n",
       "    <tr>\n",
       "      <th>15</th>\n",
       "      <td>F</td>\n",
       "      <td>16</td>\n",
       "    </tr>\n",
       "    <tr>\n",
       "      <th>16</th>\n",
       "      <td>F</td>\n",
       "      <td>16</td>\n",
       "    </tr>\n",
       "    <tr>\n",
       "      <th>17</th>\n",
       "      <td>F</td>\n",
       "      <td>16</td>\n",
       "    </tr>\n",
       "    <tr>\n",
       "      <th>18</th>\n",
       "      <td>M</td>\n",
       "      <td>17</td>\n",
       "    </tr>\n",
       "    <tr>\n",
       "      <th>19</th>\n",
       "      <td>M</td>\n",
       "      <td>16</td>\n",
       "    </tr>\n",
       "    <tr>\n",
       "      <th>20</th>\n",
       "      <td>M</td>\n",
       "      <td>15</td>\n",
       "    </tr>\n",
       "    <tr>\n",
       "      <th>21</th>\n",
       "      <td>M</td>\n",
       "      <td>15</td>\n",
       "    </tr>\n",
       "    <tr>\n",
       "      <th>22</th>\n",
       "      <td>M</td>\n",
       "      <td>16</td>\n",
       "    </tr>\n",
       "    <tr>\n",
       "      <th>23</th>\n",
       "      <td>M</td>\n",
       "      <td>16</td>\n",
       "    </tr>\n",
       "    <tr>\n",
       "      <th>24</th>\n",
       "      <td>F</td>\n",
       "      <td>15</td>\n",
       "    </tr>\n",
       "    <tr>\n",
       "      <th>25</th>\n",
       "      <td>F</td>\n",
       "      <td>16</td>\n",
       "    </tr>\n",
       "    <tr>\n",
       "      <th>26</th>\n",
       "      <td>M</td>\n",
       "      <td>15</td>\n",
       "    </tr>\n",
       "    <tr>\n",
       "      <th>27</th>\n",
       "      <td>M</td>\n",
       "      <td>15</td>\n",
       "    </tr>\n",
       "    <tr>\n",
       "      <th>28</th>\n",
       "      <td>M</td>\n",
       "      <td>16</td>\n",
       "    </tr>\n",
       "    <tr>\n",
       "      <th>29</th>\n",
       "      <td>M</td>\n",
       "      <td>16</td>\n",
       "    </tr>\n",
       "    <tr>\n",
       "      <th>...</th>\n",
       "      <td>...</td>\n",
       "      <td>...</td>\n",
       "    </tr>\n",
       "    <tr>\n",
       "      <th>619</th>\n",
       "      <td>F</td>\n",
       "      <td>18</td>\n",
       "    </tr>\n",
       "    <tr>\n",
       "      <th>620</th>\n",
       "      <td>F</td>\n",
       "      <td>17</td>\n",
       "    </tr>\n",
       "    <tr>\n",
       "      <th>621</th>\n",
       "      <td>F</td>\n",
       "      <td>17</td>\n",
       "    </tr>\n",
       "    <tr>\n",
       "      <th>622</th>\n",
       "      <td>M</td>\n",
       "      <td>18</td>\n",
       "    </tr>\n",
       "    <tr>\n",
       "      <th>623</th>\n",
       "      <td>M</td>\n",
       "      <td>18</td>\n",
       "    </tr>\n",
       "    <tr>\n",
       "      <th>624</th>\n",
       "      <td>F</td>\n",
       "      <td>17</td>\n",
       "    </tr>\n",
       "    <tr>\n",
       "      <th>625</th>\n",
       "      <td>F</td>\n",
       "      <td>18</td>\n",
       "    </tr>\n",
       "    <tr>\n",
       "      <th>626</th>\n",
       "      <td>F</td>\n",
       "      <td>18</td>\n",
       "    </tr>\n",
       "    <tr>\n",
       "      <th>627</th>\n",
       "      <td>M</td>\n",
       "      <td>18</td>\n",
       "    </tr>\n",
       "    <tr>\n",
       "      <th>628</th>\n",
       "      <td>F</td>\n",
       "      <td>17</td>\n",
       "    </tr>\n",
       "    <tr>\n",
       "      <th>629</th>\n",
       "      <td>F</td>\n",
       "      <td>17</td>\n",
       "    </tr>\n",
       "    <tr>\n",
       "      <th>630</th>\n",
       "      <td>F</td>\n",
       "      <td>18</td>\n",
       "    </tr>\n",
       "    <tr>\n",
       "      <th>631</th>\n",
       "      <td>F</td>\n",
       "      <td>18</td>\n",
       "    </tr>\n",
       "    <tr>\n",
       "      <th>632</th>\n",
       "      <td>F</td>\n",
       "      <td>19</td>\n",
       "    </tr>\n",
       "    <tr>\n",
       "      <th>633</th>\n",
       "      <td>F</td>\n",
       "      <td>18</td>\n",
       "    </tr>\n",
       "    <tr>\n",
       "      <th>634</th>\n",
       "      <td>F</td>\n",
       "      <td>18</td>\n",
       "    </tr>\n",
       "    <tr>\n",
       "      <th>635</th>\n",
       "      <td>F</td>\n",
       "      <td>17</td>\n",
       "    </tr>\n",
       "    <tr>\n",
       "      <th>636</th>\n",
       "      <td>M</td>\n",
       "      <td>18</td>\n",
       "    </tr>\n",
       "    <tr>\n",
       "      <th>637</th>\n",
       "      <td>M</td>\n",
       "      <td>18</td>\n",
       "    </tr>\n",
       "    <tr>\n",
       "      <th>638</th>\n",
       "      <td>M</td>\n",
       "      <td>17</td>\n",
       "    </tr>\n",
       "    <tr>\n",
       "      <th>639</th>\n",
       "      <td>M</td>\n",
       "      <td>19</td>\n",
       "    </tr>\n",
       "    <tr>\n",
       "      <th>640</th>\n",
       "      <td>M</td>\n",
       "      <td>18</td>\n",
       "    </tr>\n",
       "    <tr>\n",
       "      <th>641</th>\n",
       "      <td>F</td>\n",
       "      <td>18</td>\n",
       "    </tr>\n",
       "    <tr>\n",
       "      <th>642</th>\n",
       "      <td>F</td>\n",
       "      <td>17</td>\n",
       "    </tr>\n",
       "    <tr>\n",
       "      <th>643</th>\n",
       "      <td>F</td>\n",
       "      <td>18</td>\n",
       "    </tr>\n",
       "    <tr>\n",
       "      <th>644</th>\n",
       "      <td>F</td>\n",
       "      <td>19</td>\n",
       "    </tr>\n",
       "    <tr>\n",
       "      <th>645</th>\n",
       "      <td>F</td>\n",
       "      <td>18</td>\n",
       "    </tr>\n",
       "    <tr>\n",
       "      <th>646</th>\n",
       "      <td>F</td>\n",
       "      <td>18</td>\n",
       "    </tr>\n",
       "    <tr>\n",
       "      <th>647</th>\n",
       "      <td>M</td>\n",
       "      <td>17</td>\n",
       "    </tr>\n",
       "    <tr>\n",
       "      <th>648</th>\n",
       "      <td>M</td>\n",
       "      <td>18</td>\n",
       "    </tr>\n",
       "  </tbody>\n",
       "</table>\n",
       "<p>649 rows × 2 columns</p>\n",
       "</div>"
      ],
      "text/plain": [
       "    sex  age\n",
       "0     F   18\n",
       "1     F   17\n",
       "2     F   15\n",
       "3     F   15\n",
       "4     F   16\n",
       "5     M   16\n",
       "6     M   16\n",
       "7     F   17\n",
       "8     M   15\n",
       "9     M   15\n",
       "10    F   15\n",
       "11    F   15\n",
       "12    M   15\n",
       "13    M   15\n",
       "14    M   15\n",
       "15    F   16\n",
       "16    F   16\n",
       "17    F   16\n",
       "18    M   17\n",
       "19    M   16\n",
       "20    M   15\n",
       "21    M   15\n",
       "22    M   16\n",
       "23    M   16\n",
       "24    F   15\n",
       "25    F   16\n",
       "26    M   15\n",
       "27    M   15\n",
       "28    M   16\n",
       "29    M   16\n",
       "..   ..  ...\n",
       "619   F   18\n",
       "620   F   17\n",
       "621   F   17\n",
       "622   M   18\n",
       "623   M   18\n",
       "624   F   17\n",
       "625   F   18\n",
       "626   F   18\n",
       "627   M   18\n",
       "628   F   17\n",
       "629   F   17\n",
       "630   F   18\n",
       "631   F   18\n",
       "632   F   19\n",
       "633   F   18\n",
       "634   F   18\n",
       "635   F   17\n",
       "636   M   18\n",
       "637   M   18\n",
       "638   M   17\n",
       "639   M   19\n",
       "640   M   18\n",
       "641   F   18\n",
       "642   F   17\n",
       "643   F   18\n",
       "644   F   19\n",
       "645   F   18\n",
       "646   F   18\n",
       "647   M   17\n",
       "648   M   18\n",
       "\n",
       "[649 rows x 2 columns]"
      ]
     },
     "execution_count": 17,
     "metadata": {},
     "output_type": "execute_result"
    }
   ],
   "source": [
    "students[['sex', 'age']]"
   ]
  },
  {
   "cell_type": "markdown",
   "metadata": {},
   "source": [
    "#### `loc`, `iloc`, and `ix`"
   ]
  },
  {
   "cell_type": "markdown",
   "metadata": {},
   "source": [
    "These three methods can be used to **simultaneously select rows and columns** of a `DataFrame`.\n",
    "\n",
    "`loc` selects rows or columns by **name**"
   ]
  },
  {
   "cell_type": "code",
   "execution_count": 18,
   "metadata": {},
   "outputs": [
    {
     "data": {
      "text/plain": [
       "0      18\n",
       "1      17\n",
       "2      15\n",
       "3      15\n",
       "4      16\n",
       "5      16\n",
       "6      16\n",
       "7      17\n",
       "8      15\n",
       "9      15\n",
       "10     15\n",
       "11     15\n",
       "12     15\n",
       "13     15\n",
       "14     15\n",
       "15     16\n",
       "16     16\n",
       "17     16\n",
       "18     17\n",
       "19     16\n",
       "20     15\n",
       "21     15\n",
       "22     16\n",
       "23     16\n",
       "24     15\n",
       "25     16\n",
       "26     15\n",
       "27     15\n",
       "28     16\n",
       "29     16\n",
       "       ..\n",
       "619    18\n",
       "620    17\n",
       "621    17\n",
       "622    18\n",
       "623    18\n",
       "624    17\n",
       "625    18\n",
       "626    18\n",
       "627    18\n",
       "628    17\n",
       "629    17\n",
       "630    18\n",
       "631    18\n",
       "632    19\n",
       "633    18\n",
       "634    18\n",
       "635    17\n",
       "636    18\n",
       "637    18\n",
       "638    17\n",
       "639    19\n",
       "640    18\n",
       "641    18\n",
       "642    17\n",
       "643    18\n",
       "644    19\n",
       "645    18\n",
       "646    18\n",
       "647    17\n",
       "648    18\n",
       "Name: age, Length: 649, dtype: int64"
      ]
     },
     "execution_count": 18,
     "metadata": {},
     "output_type": "execute_result"
    }
   ],
   "source": [
    "students.loc[:,'age']  # All rows, column 'age'"
   ]
  },
  {
   "cell_type": "markdown",
   "metadata": {},
   "source": [
    "`iloc` selects rows and columns by **position**"
   ]
  },
  {
   "cell_type": "code",
   "execution_count": 19,
   "metadata": {},
   "outputs": [
    {
     "data": {
      "text/html": [
       "<div>\n",
       "<style>\n",
       "    .dataframe thead tr:only-child th {\n",
       "        text-align: right;\n",
       "    }\n",
       "\n",
       "    .dataframe thead th {\n",
       "        text-align: left;\n",
       "    }\n",
       "\n",
       "    .dataframe tbody tr th {\n",
       "        vertical-align: top;\n",
       "    }\n",
       "</style>\n",
       "<table border=\"1\" class=\"dataframe\">\n",
       "  <thead>\n",
       "    <tr style=\"text-align: right;\">\n",
       "      <th></th>\n",
       "      <th>school</th>\n",
       "      <th>sex</th>\n",
       "      <th>age</th>\n",
       "      <th>home_area</th>\n",
       "      <th>family_size</th>\n",
       "      <th>parents_cohabit</th>\n",
       "      <th>education_mother</th>\n",
       "      <th>education_father</th>\n",
       "      <th>occupation_mother</th>\n",
       "      <th>occupation_father</th>\n",
       "      <th>...</th>\n",
       "      <th>internet_access</th>\n",
       "      <th>romantic_relationship</th>\n",
       "      <th>family_relationships_quality</th>\n",
       "      <th>free_time</th>\n",
       "      <th>going_out</th>\n",
       "      <th>alcohol_weekdays</th>\n",
       "      <th>alcohol_weekend</th>\n",
       "      <th>health_status</th>\n",
       "      <th>absences</th>\n",
       "      <th>final_grade</th>\n",
       "    </tr>\n",
       "  </thead>\n",
       "  <tbody>\n",
       "    <tr>\n",
       "      <th>0</th>\n",
       "      <td>Gabriel Pereira</td>\n",
       "      <td>F</td>\n",
       "      <td>18</td>\n",
       "      <td>Urban</td>\n",
       "      <td>&gt; 3</td>\n",
       "      <td>False</td>\n",
       "      <td>Higher education</td>\n",
       "      <td>Higher education</td>\n",
       "      <td>At home</td>\n",
       "      <td>Teacher</td>\n",
       "      <td>...</td>\n",
       "      <td>False</td>\n",
       "      <td>False</td>\n",
       "      <td>4</td>\n",
       "      <td>3</td>\n",
       "      <td>4</td>\n",
       "      <td>1</td>\n",
       "      <td>1</td>\n",
       "      <td>3</td>\n",
       "      <td>4</td>\n",
       "      <td>11</td>\n",
       "    </tr>\n",
       "    <tr>\n",
       "      <th>1</th>\n",
       "      <td>Gabriel Pereira</td>\n",
       "      <td>F</td>\n",
       "      <td>17</td>\n",
       "      <td>Urban</td>\n",
       "      <td>&gt; 3</td>\n",
       "      <td>True</td>\n",
       "      <td>Primary education</td>\n",
       "      <td>Primary education</td>\n",
       "      <td>At home</td>\n",
       "      <td>Other</td>\n",
       "      <td>...</td>\n",
       "      <td>True</td>\n",
       "      <td>False</td>\n",
       "      <td>5</td>\n",
       "      <td>3</td>\n",
       "      <td>3</td>\n",
       "      <td>1</td>\n",
       "      <td>1</td>\n",
       "      <td>3</td>\n",
       "      <td>2</td>\n",
       "      <td>11</td>\n",
       "    </tr>\n",
       "    <tr>\n",
       "      <th>2</th>\n",
       "      <td>Gabriel Pereira</td>\n",
       "      <td>F</td>\n",
       "      <td>15</td>\n",
       "      <td>Urban</td>\n",
       "      <td>&lt;= 3</td>\n",
       "      <td>True</td>\n",
       "      <td>Primary education</td>\n",
       "      <td>Primary education</td>\n",
       "      <td>At home</td>\n",
       "      <td>Other</td>\n",
       "      <td>...</td>\n",
       "      <td>True</td>\n",
       "      <td>False</td>\n",
       "      <td>4</td>\n",
       "      <td>3</td>\n",
       "      <td>2</td>\n",
       "      <td>2</td>\n",
       "      <td>3</td>\n",
       "      <td>3</td>\n",
       "      <td>6</td>\n",
       "      <td>12</td>\n",
       "    </tr>\n",
       "    <tr>\n",
       "      <th>3</th>\n",
       "      <td>Gabriel Pereira</td>\n",
       "      <td>F</td>\n",
       "      <td>15</td>\n",
       "      <td>Urban</td>\n",
       "      <td>&gt; 3</td>\n",
       "      <td>True</td>\n",
       "      <td>Higher education</td>\n",
       "      <td>Lower secondary education</td>\n",
       "      <td>Healthcare</td>\n",
       "      <td>Civil service</td>\n",
       "      <td>...</td>\n",
       "      <td>True</td>\n",
       "      <td>True</td>\n",
       "      <td>3</td>\n",
       "      <td>2</td>\n",
       "      <td>2</td>\n",
       "      <td>1</td>\n",
       "      <td>1</td>\n",
       "      <td>5</td>\n",
       "      <td>0</td>\n",
       "      <td>14</td>\n",
       "    </tr>\n",
       "    <tr>\n",
       "      <th>4</th>\n",
       "      <td>Gabriel Pereira</td>\n",
       "      <td>F</td>\n",
       "      <td>16</td>\n",
       "      <td>Urban</td>\n",
       "      <td>&gt; 3</td>\n",
       "      <td>True</td>\n",
       "      <td>Upper secondary education</td>\n",
       "      <td>Upper secondary education</td>\n",
       "      <td>Other</td>\n",
       "      <td>Other</td>\n",
       "      <td>...</td>\n",
       "      <td>False</td>\n",
       "      <td>False</td>\n",
       "      <td>4</td>\n",
       "      <td>3</td>\n",
       "      <td>2</td>\n",
       "      <td>1</td>\n",
       "      <td>2</td>\n",
       "      <td>5</td>\n",
       "      <td>0</td>\n",
       "      <td>13</td>\n",
       "    </tr>\n",
       "  </tbody>\n",
       "</table>\n",
       "<p>5 rows × 31 columns</p>\n",
       "</div>"
      ],
      "text/plain": [
       "            school sex  age home_area family_size  parents_cohabit  \\\n",
       "0  Gabriel Pereira   F   18     Urban         > 3            False   \n",
       "1  Gabriel Pereira   F   17     Urban         > 3             True   \n",
       "2  Gabriel Pereira   F   15     Urban        <= 3             True   \n",
       "3  Gabriel Pereira   F   15     Urban         > 3             True   \n",
       "4  Gabriel Pereira   F   16     Urban         > 3             True   \n",
       "\n",
       "            education_mother           education_father occupation_mother  \\\n",
       "0           Higher education           Higher education           At home   \n",
       "1          Primary education          Primary education           At home   \n",
       "2          Primary education          Primary education           At home   \n",
       "3           Higher education  Lower secondary education        Healthcare   \n",
       "4  Upper secondary education  Upper secondary education             Other   \n",
       "\n",
       "  occupation_father     ...      internet_access romantic_relationship  \\\n",
       "0           Teacher     ...                False                 False   \n",
       "1             Other     ...                 True                 False   \n",
       "2             Other     ...                 True                 False   \n",
       "3     Civil service     ...                 True                  True   \n",
       "4             Other     ...                False                 False   \n",
       "\n",
       "  family_relationships_quality free_time going_out  alcohol_weekdays  \\\n",
       "0                            4         3         4                 1   \n",
       "1                            5         3         3                 1   \n",
       "2                            4         3         2                 2   \n",
       "3                            3         2         2                 1   \n",
       "4                            4         3         2                 1   \n",
       "\n",
       "   alcohol_weekend  health_status  absences  final_grade  \n",
       "0                1              3         4           11  \n",
       "1                1              3         2           11  \n",
       "2                3              3         6           12  \n",
       "3                1              5         0           14  \n",
       "4                2              5         0           13  \n",
       "\n",
       "[5 rows x 31 columns]"
      ]
     },
     "execution_count": 19,
     "metadata": {},
     "output_type": "execute_result"
    }
   ],
   "source": [
    "students.iloc[0:5,:]  # First five rows, all columns"
   ]
  },
  {
   "cell_type": "markdown",
   "metadata": {},
   "source": [
    "`ix` selects rows or columns by **name** (same as `loc`), but falls back to **position** (like `iloc`) if needed"
   ]
  },
  {
   "cell_type": "markdown",
   "metadata": {},
   "source": [
    "### Sorting\n",
    "\n",
    "It may be desirable to sort a `DataFrame` by some column(s), for example to identify unusual observations."
   ]
  },
  {
   "cell_type": "code",
   "execution_count": 20,
   "metadata": {},
   "outputs": [
    {
     "data": {
      "text/html": [
       "<div>\n",
       "<style>\n",
       "    .dataframe thead tr:only-child th {\n",
       "        text-align: right;\n",
       "    }\n",
       "\n",
       "    .dataframe thead th {\n",
       "        text-align: left;\n",
       "    }\n",
       "\n",
       "    .dataframe tbody tr th {\n",
       "        vertical-align: top;\n",
       "    }\n",
       "</style>\n",
       "<table border=\"1\" class=\"dataframe\">\n",
       "  <thead>\n",
       "    <tr style=\"text-align: right;\">\n",
       "      <th></th>\n",
       "      <th>school</th>\n",
       "      <th>sex</th>\n",
       "      <th>age</th>\n",
       "      <th>home_area</th>\n",
       "      <th>family_size</th>\n",
       "      <th>parents_cohabit</th>\n",
       "      <th>education_mother</th>\n",
       "      <th>education_father</th>\n",
       "      <th>occupation_mother</th>\n",
       "      <th>occupation_father</th>\n",
       "      <th>...</th>\n",
       "      <th>internet_access</th>\n",
       "      <th>romantic_relationship</th>\n",
       "      <th>family_relationships_quality</th>\n",
       "      <th>free_time</th>\n",
       "      <th>going_out</th>\n",
       "      <th>alcohol_weekdays</th>\n",
       "      <th>alcohol_weekend</th>\n",
       "      <th>health_status</th>\n",
       "      <th>absences</th>\n",
       "      <th>final_grade</th>\n",
       "    </tr>\n",
       "  </thead>\n",
       "  <tbody>\n",
       "    <tr>\n",
       "      <th>197</th>\n",
       "      <td>Gabriel Pereira</td>\n",
       "      <td>F</td>\n",
       "      <td>17</td>\n",
       "      <td>Urban</td>\n",
       "      <td>&lt;= 3</td>\n",
       "      <td>True</td>\n",
       "      <td>Upper secondary education</td>\n",
       "      <td>Upper secondary education</td>\n",
       "      <td>Other</td>\n",
       "      <td>Other</td>\n",
       "      <td>...</td>\n",
       "      <td>True</td>\n",
       "      <td>True</td>\n",
       "      <td>5</td>\n",
       "      <td>3</td>\n",
       "      <td>3</td>\n",
       "      <td>2</td>\n",
       "      <td>3</td>\n",
       "      <td>1</td>\n",
       "      <td>32</td>\n",
       "      <td>14</td>\n",
       "    </tr>\n",
       "    <tr>\n",
       "      <th>212</th>\n",
       "      <td>Gabriel Pereira</td>\n",
       "      <td>F</td>\n",
       "      <td>17</td>\n",
       "      <td>Urban</td>\n",
       "      <td>&gt; 3</td>\n",
       "      <td>True</td>\n",
       "      <td>Higher education</td>\n",
       "      <td>Higher education</td>\n",
       "      <td>Civil service</td>\n",
       "      <td>Teacher</td>\n",
       "      <td>...</td>\n",
       "      <td>True</td>\n",
       "      <td>False</td>\n",
       "      <td>4</td>\n",
       "      <td>2</td>\n",
       "      <td>4</td>\n",
       "      <td>2</td>\n",
       "      <td>3</td>\n",
       "      <td>2</td>\n",
       "      <td>30</td>\n",
       "      <td>16</td>\n",
       "    </tr>\n",
       "    <tr>\n",
       "      <th>256</th>\n",
       "      <td>Gabriel Pereira</td>\n",
       "      <td>M</td>\n",
       "      <td>18</td>\n",
       "      <td>Urban</td>\n",
       "      <td>&gt; 3</td>\n",
       "      <td>True</td>\n",
       "      <td>Lower secondary education</td>\n",
       "      <td>Lower secondary education</td>\n",
       "      <td>Other</td>\n",
       "      <td>At home</td>\n",
       "      <td>...</td>\n",
       "      <td>True</td>\n",
       "      <td>True</td>\n",
       "      <td>4</td>\n",
       "      <td>4</td>\n",
       "      <td>3</td>\n",
       "      <td>2</td>\n",
       "      <td>2</td>\n",
       "      <td>1</td>\n",
       "      <td>26</td>\n",
       "      <td>8</td>\n",
       "    </tr>\n",
       "    <tr>\n",
       "      <th>150</th>\n",
       "      <td>Gabriel Pereira</td>\n",
       "      <td>F</td>\n",
       "      <td>15</td>\n",
       "      <td>Urban</td>\n",
       "      <td>&gt; 3</td>\n",
       "      <td>False</td>\n",
       "      <td>Upper secondary education</td>\n",
       "      <td>Upper secondary education</td>\n",
       "      <td>Civil service</td>\n",
       "      <td>Civil service</td>\n",
       "      <td>...</td>\n",
       "      <td>False</td>\n",
       "      <td>True</td>\n",
       "      <td>1</td>\n",
       "      <td>3</td>\n",
       "      <td>2</td>\n",
       "      <td>2</td>\n",
       "      <td>3</td>\n",
       "      <td>1</td>\n",
       "      <td>24</td>\n",
       "      <td>9</td>\n",
       "    </tr>\n",
       "    <tr>\n",
       "      <th>325</th>\n",
       "      <td>Gabriel Pereira</td>\n",
       "      <td>M</td>\n",
       "      <td>17</td>\n",
       "      <td>Urban</td>\n",
       "      <td>&lt;= 3</td>\n",
       "      <td>False</td>\n",
       "      <td>Higher education</td>\n",
       "      <td>Primary education</td>\n",
       "      <td>Civil service</td>\n",
       "      <td>Other</td>\n",
       "      <td>...</td>\n",
       "      <td>True</td>\n",
       "      <td>True</td>\n",
       "      <td>4</td>\n",
       "      <td>5</td>\n",
       "      <td>4</td>\n",
       "      <td>2</td>\n",
       "      <td>4</td>\n",
       "      <td>5</td>\n",
       "      <td>22</td>\n",
       "      <td>10</td>\n",
       "    </tr>\n",
       "  </tbody>\n",
       "</table>\n",
       "<p>5 rows × 31 columns</p>\n",
       "</div>"
      ],
      "text/plain": [
       "              school sex  age home_area family_size  parents_cohabit  \\\n",
       "197  Gabriel Pereira   F   17     Urban        <= 3             True   \n",
       "212  Gabriel Pereira   F   17     Urban         > 3             True   \n",
       "256  Gabriel Pereira   M   18     Urban         > 3             True   \n",
       "150  Gabriel Pereira   F   15     Urban         > 3            False   \n",
       "325  Gabriel Pereira   M   17     Urban        <= 3            False   \n",
       "\n",
       "              education_mother           education_father occupation_mother  \\\n",
       "197  Upper secondary education  Upper secondary education             Other   \n",
       "212           Higher education           Higher education     Civil service   \n",
       "256  Lower secondary education  Lower secondary education             Other   \n",
       "150  Upper secondary education  Upper secondary education     Civil service   \n",
       "325           Higher education          Primary education     Civil service   \n",
       "\n",
       "    occupation_father     ...      internet_access romantic_relationship  \\\n",
       "197             Other     ...                 True                  True   \n",
       "212           Teacher     ...                 True                 False   \n",
       "256           At home     ...                 True                  True   \n",
       "150     Civil service     ...                False                  True   \n",
       "325             Other     ...                 True                  True   \n",
       "\n",
       "    family_relationships_quality free_time going_out  alcohol_weekdays  \\\n",
       "197                            5         3         3                 2   \n",
       "212                            4         2         4                 2   \n",
       "256                            4         4         3                 2   \n",
       "150                            1         3         2                 2   \n",
       "325                            4         5         4                 2   \n",
       "\n",
       "     alcohol_weekend  health_status  absences  final_grade  \n",
       "197                3              1        32           14  \n",
       "212                3              2        30           16  \n",
       "256                2              1        26            8  \n",
       "150                3              1        24            9  \n",
       "325                4              5        22           10  \n",
       "\n",
       "[5 rows x 31 columns]"
      ]
     },
     "execution_count": 20,
     "metadata": {},
     "output_type": "execute_result"
    }
   ],
   "source": [
    "students.sort_values('absences', ascending=False).head()"
   ]
  },
  {
   "cell_type": "code",
   "execution_count": 21,
   "metadata": {},
   "outputs": [
    {
     "data": {
      "text/html": [
       "<div>\n",
       "<style>\n",
       "    .dataframe thead tr:only-child th {\n",
       "        text-align: right;\n",
       "    }\n",
       "\n",
       "    .dataframe thead th {\n",
       "        text-align: left;\n",
       "    }\n",
       "\n",
       "    .dataframe tbody tr th {\n",
       "        vertical-align: top;\n",
       "    }\n",
       "</style>\n",
       "<table border=\"1\" class=\"dataframe\">\n",
       "  <thead>\n",
       "    <tr style=\"text-align: right;\">\n",
       "      <th></th>\n",
       "      <th>school</th>\n",
       "      <th>sex</th>\n",
       "      <th>age</th>\n",
       "      <th>home_area</th>\n",
       "      <th>family_size</th>\n",
       "      <th>parents_cohabit</th>\n",
       "      <th>education_mother</th>\n",
       "      <th>education_father</th>\n",
       "      <th>occupation_mother</th>\n",
       "      <th>occupation_father</th>\n",
       "      <th>...</th>\n",
       "      <th>internet_access</th>\n",
       "      <th>romantic_relationship</th>\n",
       "      <th>family_relationships_quality</th>\n",
       "      <th>free_time</th>\n",
       "      <th>going_out</th>\n",
       "      <th>alcohol_weekdays</th>\n",
       "      <th>alcohol_weekend</th>\n",
       "      <th>health_status</th>\n",
       "      <th>absences</th>\n",
       "      <th>final_grade</th>\n",
       "    </tr>\n",
       "  </thead>\n",
       "  <tbody>\n",
       "    <tr>\n",
       "      <th>29</th>\n",
       "      <td>Gabriel Pereira</td>\n",
       "      <td>M</td>\n",
       "      <td>16</td>\n",
       "      <td>Urban</td>\n",
       "      <td>&gt; 3</td>\n",
       "      <td>True</td>\n",
       "      <td>Higher education</td>\n",
       "      <td>Higher education</td>\n",
       "      <td>Teacher</td>\n",
       "      <td>Teacher</td>\n",
       "      <td>...</td>\n",
       "      <td>True</td>\n",
       "      <td>True</td>\n",
       "      <td>4</td>\n",
       "      <td>4</td>\n",
       "      <td>5</td>\n",
       "      <td>5</td>\n",
       "      <td>5</td>\n",
       "      <td>5</td>\n",
       "      <td>4</td>\n",
       "      <td>12</td>\n",
       "    </tr>\n",
       "    <tr>\n",
       "      <th>61</th>\n",
       "      <td>Gabriel Pereira</td>\n",
       "      <td>F</td>\n",
       "      <td>16</td>\n",
       "      <td>Urban</td>\n",
       "      <td>&gt; 3</td>\n",
       "      <td>True</td>\n",
       "      <td>Primary education</td>\n",
       "      <td>Primary education</td>\n",
       "      <td>Civil service</td>\n",
       "      <td>Civil service</td>\n",
       "      <td>...</td>\n",
       "      <td>True</td>\n",
       "      <td>True</td>\n",
       "      <td>5</td>\n",
       "      <td>5</td>\n",
       "      <td>5</td>\n",
       "      <td>5</td>\n",
       "      <td>5</td>\n",
       "      <td>5</td>\n",
       "      <td>0</td>\n",
       "      <td>16</td>\n",
       "    </tr>\n",
       "    <tr>\n",
       "      <th>66</th>\n",
       "      <td>Gabriel Pereira</td>\n",
       "      <td>M</td>\n",
       "      <td>15</td>\n",
       "      <td>Urban</td>\n",
       "      <td>&gt; 3</td>\n",
       "      <td>False</td>\n",
       "      <td>Higher education</td>\n",
       "      <td>Higher education</td>\n",
       "      <td>Other</td>\n",
       "      <td>Civil service</td>\n",
       "      <td>...</td>\n",
       "      <td>True</td>\n",
       "      <td>True</td>\n",
       "      <td>1</td>\n",
       "      <td>3</td>\n",
       "      <td>3</td>\n",
       "      <td>5</td>\n",
       "      <td>5</td>\n",
       "      <td>3</td>\n",
       "      <td>0</td>\n",
       "      <td>12</td>\n",
       "    </tr>\n",
       "    <tr>\n",
       "      <th>100</th>\n",
       "      <td>Gabriel Pereira</td>\n",
       "      <td>M</td>\n",
       "      <td>16</td>\n",
       "      <td>Urban</td>\n",
       "      <td>&gt; 3</td>\n",
       "      <td>True</td>\n",
       "      <td>Higher education</td>\n",
       "      <td>Higher education</td>\n",
       "      <td>Civil service</td>\n",
       "      <td>Civil service</td>\n",
       "      <td>...</td>\n",
       "      <td>True</td>\n",
       "      <td>False</td>\n",
       "      <td>4</td>\n",
       "      <td>5</td>\n",
       "      <td>5</td>\n",
       "      <td>5</td>\n",
       "      <td>5</td>\n",
       "      <td>4</td>\n",
       "      <td>12</td>\n",
       "      <td>8</td>\n",
       "    </tr>\n",
       "    <tr>\n",
       "      <th>237</th>\n",
       "      <td>Gabriel Pereira</td>\n",
       "      <td>M</td>\n",
       "      <td>18</td>\n",
       "      <td>Urban</td>\n",
       "      <td>&gt; 3</td>\n",
       "      <td>True</td>\n",
       "      <td>Lower secondary education</td>\n",
       "      <td>Lower secondary education</td>\n",
       "      <td>Other</td>\n",
       "      <td>Other</td>\n",
       "      <td>...</td>\n",
       "      <td>True</td>\n",
       "      <td>False</td>\n",
       "      <td>3</td>\n",
       "      <td>3</td>\n",
       "      <td>3</td>\n",
       "      <td>5</td>\n",
       "      <td>5</td>\n",
       "      <td>4</td>\n",
       "      <td>9</td>\n",
       "      <td>10</td>\n",
       "    </tr>\n",
       "  </tbody>\n",
       "</table>\n",
       "<p>5 rows × 31 columns</p>\n",
       "</div>"
      ],
      "text/plain": [
       "              school sex  age home_area family_size  parents_cohabit  \\\n",
       "29   Gabriel Pereira   M   16     Urban         > 3             True   \n",
       "61   Gabriel Pereira   F   16     Urban         > 3             True   \n",
       "66   Gabriel Pereira   M   15     Urban         > 3            False   \n",
       "100  Gabriel Pereira   M   16     Urban         > 3             True   \n",
       "237  Gabriel Pereira   M   18     Urban         > 3             True   \n",
       "\n",
       "              education_mother           education_father occupation_mother  \\\n",
       "29            Higher education           Higher education           Teacher   \n",
       "61           Primary education          Primary education     Civil service   \n",
       "66            Higher education           Higher education             Other   \n",
       "100           Higher education           Higher education     Civil service   \n",
       "237  Lower secondary education  Lower secondary education             Other   \n",
       "\n",
       "    occupation_father     ...      internet_access romantic_relationship  \\\n",
       "29            Teacher     ...                 True                  True   \n",
       "61      Civil service     ...                 True                  True   \n",
       "66      Civil service     ...                 True                  True   \n",
       "100     Civil service     ...                 True                 False   \n",
       "237             Other     ...                 True                 False   \n",
       "\n",
       "    family_relationships_quality free_time going_out  alcohol_weekdays  \\\n",
       "29                             4         4         5                 5   \n",
       "61                             5         5         5                 5   \n",
       "66                             1         3         3                 5   \n",
       "100                            4         5         5                 5   \n",
       "237                            3         3         3                 5   \n",
       "\n",
       "     alcohol_weekend  health_status  absences  final_grade  \n",
       "29                 5              5         4           12  \n",
       "61                 5              5         0           16  \n",
       "66                 5              3         0           12  \n",
       "100                5              4        12            8  \n",
       "237                5              4         9           10  \n",
       "\n",
       "[5 rows x 31 columns]"
      ]
     },
     "execution_count": 21,
     "metadata": {},
     "output_type": "execute_result"
    }
   ],
   "source": [
    "students.sort_values(['alcohol_weekdays', 'alcohol_weekend'], ascending=False).head()"
   ]
  },
  {
   "cell_type": "markdown",
   "metadata": {},
   "source": [
    "### Duplicates\n",
    "\n",
    "Duplicate rows can be identified using `duplicated`, which returns `True` if a row (possibly limited to a subset of columns) has been seen previously. We can count the number of duplicate rows by combining `duplicated` with `sum`.\n",
    "\n",
    "Duplicate rows can be removed using Boolean filtering, or directly using `drop_duplicates`."
   ]
  },
  {
   "cell_type": "code",
   "execution_count": 22,
   "metadata": {},
   "outputs": [
    {
     "data": {
      "text/plain": [
       "0"
      ]
     },
     "execution_count": 22,
     "metadata": {},
     "output_type": "execute_result"
    }
   ],
   "source": [
    "students.duplicated().sum()"
   ]
  },
  {
   "cell_type": "code",
   "execution_count": 23,
   "metadata": {},
   "outputs": [
    {
     "data": {
      "text/plain": [
       "647"
      ]
     },
     "execution_count": 23,
     "metadata": {},
     "output_type": "execute_result"
    }
   ],
   "source": [
    "students['school'].duplicated().sum()"
   ]
  },
  {
   "cell_type": "code",
   "execution_count": 24,
   "metadata": {},
   "outputs": [
    {
     "data": {
      "text/plain": [
       "647"
      ]
     },
     "execution_count": 24,
     "metadata": {},
     "output_type": "execute_result"
    }
   ],
   "source": [
    "students.duplicated(['school', 'sex', 'age']).duplicated().sum()"
   ]
  },
  {
   "cell_type": "markdown",
   "metadata": {},
   "source": [
    "### Adding, renaming, and removing columns"
   ]
  },
  {
   "cell_type": "markdown",
   "metadata": {},
   "source": [
    "The `[]` notation can also be used to create new columns, for example based on existing information."
   ]
  },
  {
   "cell_type": "code",
   "execution_count": 25,
   "metadata": {},
   "outputs": [],
   "source": [
    "students['minor'] = students['age'] < 18"
   ]
  },
  {
   "cell_type": "code",
   "execution_count": 26,
   "metadata": {},
   "outputs": [
    {
     "data": {
      "text/plain": [
       "True     468\n",
       "False    181\n",
       "Name: minor, dtype: int64"
      ]
     },
     "execution_count": 26,
     "metadata": {},
     "output_type": "execute_result"
    }
   ],
   "source": [
    "students['minor'].value_counts()"
   ]
  },
  {
   "cell_type": "markdown",
   "metadata": {},
   "source": [
    "Columns can be renamed using `rename`, which takes a `dict`ionary mapping old names to new names."
   ]
  },
  {
   "cell_type": "code",
   "execution_count": 27,
   "metadata": {
    "collapsed": true
   },
   "outputs": [],
   "source": [
    "students.rename(columns={\n",
    "    'minor': 'is_minor'\n",
    "}, inplace=True)"
   ]
  },
  {
   "cell_type": "markdown",
   "metadata": {},
   "source": [
    "Rows and columns can be removed using `drop`, with `axis` set to 0 for rows, and to 1 for columns."
   ]
  },
  {
   "cell_type": "code",
   "execution_count": 28,
   "metadata": {},
   "outputs": [],
   "source": [
    "students.drop('is_minor', axis=1, inplace=True)"
   ]
  },
  {
   "cell_type": "markdown",
   "metadata": {},
   "source": [
    "### Replacing values\n",
    "\n",
    "Values in a `Series` can be replaced using `replace`, which takes a `dict`ionary mapping old values to new values."
   ]
  },
  {
   "cell_type": "code",
   "execution_count": 29,
   "metadata": {},
   "outputs": [
    {
     "data": {
      "text/plain": [
       "0       549\n",
       "1        70\n",
       "2        16\n",
       ">= 3     14\n",
       "Name: failures, dtype: int64"
      ]
     },
     "execution_count": 29,
     "metadata": {},
     "output_type": "execute_result"
    }
   ],
   "source": [
    "students.failures.value_counts()"
   ]
  },
  {
   "cell_type": "code",
   "execution_count": 30,
   "metadata": {
    "collapsed": true
   },
   "outputs": [],
   "source": [
    "students['failures'].replace({\n",
    "    '>= 3': '3'\n",
    "}, inplace=True)"
   ]
  },
  {
   "cell_type": "code",
   "execution_count": 31,
   "metadata": {},
   "outputs": [
    {
     "data": {
      "text/plain": [
       "0    549\n",
       "1     70\n",
       "2     16\n",
       "3     14\n",
       "Name: failures, dtype: int64"
      ]
     },
     "execution_count": 31,
     "metadata": {},
     "output_type": "execute_result"
    }
   ],
   "source": [
    "students.failures.value_counts()"
   ]
  },
  {
   "cell_type": "markdown",
   "metadata": {},
   "source": [
    "### Changing data types\n",
    "\n",
    "Data types can be converted using `astype`."
   ]
  },
  {
   "cell_type": "code",
   "execution_count": 32,
   "metadata": {},
   "outputs": [
    {
     "data": {
      "text/plain": [
       "dtype('O')"
      ]
     },
     "execution_count": 32,
     "metadata": {},
     "output_type": "execute_result"
    }
   ],
   "source": [
    "students['failures'].dtype"
   ]
  },
  {
   "cell_type": "code",
   "execution_count": 33,
   "metadata": {
    "collapsed": true
   },
   "outputs": [],
   "source": [
    "students['failures'] = students['failures'].astype('int')"
   ]
  },
  {
   "cell_type": "code",
   "execution_count": 34,
   "metadata": {},
   "outputs": [
    {
     "data": {
      "text/plain": [
       "dtype('int64')"
      ]
     },
     "execution_count": 34,
     "metadata": {},
     "output_type": "execute_result"
    }
   ],
   "source": [
    "students['failures'].dtype"
   ]
  },
  {
   "cell_type": "markdown",
   "metadata": {},
   "source": [
    "### Merging `DataFrame`s"
   ]
  },
  {
   "cell_type": "code",
   "execution_count": 35,
   "metadata": {
    "collapsed": true
   },
   "outputs": [],
   "source": [
    "A = pd.DataFrame({\n",
    "    'color': ['Blue', 'Green', 'Red'],\n",
    "    'num': [1, 2, 3]\n",
    "})\n",
    "B = pd.DataFrame({\n",
    "    'color': ['Blue', 'Green', 'Yellow'],\n",
    "    'size': ['S', 'M', 'L']\n",
    "})"
   ]
  },
  {
   "cell_type": "markdown",
   "metadata": {},
   "source": [
    "#### Inner join\n",
    "\n",
    "An inner join includes only observations found in **both A and B**"
   ]
  },
  {
   "cell_type": "code",
   "execution_count": 36,
   "metadata": {},
   "outputs": [
    {
     "data": {
      "text/html": [
       "<div>\n",
       "<style>\n",
       "    .dataframe thead tr:only-child th {\n",
       "        text-align: right;\n",
       "    }\n",
       "\n",
       "    .dataframe thead th {\n",
       "        text-align: left;\n",
       "    }\n",
       "\n",
       "    .dataframe tbody tr th {\n",
       "        vertical-align: top;\n",
       "    }\n",
       "</style>\n",
       "<table border=\"1\" class=\"dataframe\">\n",
       "  <thead>\n",
       "    <tr style=\"text-align: right;\">\n",
       "      <th></th>\n",
       "      <th>color</th>\n",
       "      <th>num</th>\n",
       "      <th>size</th>\n",
       "    </tr>\n",
       "  </thead>\n",
       "  <tbody>\n",
       "    <tr>\n",
       "      <th>0</th>\n",
       "      <td>Blue</td>\n",
       "      <td>1</td>\n",
       "      <td>S</td>\n",
       "    </tr>\n",
       "    <tr>\n",
       "      <th>1</th>\n",
       "      <td>Green</td>\n",
       "      <td>2</td>\n",
       "      <td>M</td>\n",
       "    </tr>\n",
       "  </tbody>\n",
       "</table>\n",
       "</div>"
      ],
      "text/plain": [
       "   color  num size\n",
       "0   Blue    1    S\n",
       "1  Green    2    M"
      ]
     },
     "execution_count": 36,
     "metadata": {},
     "output_type": "execute_result"
    }
   ],
   "source": [
    "pd.merge(A, B, how='inner')"
   ]
  },
  {
   "cell_type": "markdown",
   "metadata": {},
   "source": [
    "#### Outer join\n",
    "\n",
    "An outer join includes observations found in **either A or B** (introducing missing values as needed)"
   ]
  },
  {
   "cell_type": "code",
   "execution_count": 37,
   "metadata": {},
   "outputs": [
    {
     "data": {
      "text/html": [
       "<div>\n",
       "<style>\n",
       "    .dataframe thead tr:only-child th {\n",
       "        text-align: right;\n",
       "    }\n",
       "\n",
       "    .dataframe thead th {\n",
       "        text-align: left;\n",
       "    }\n",
       "\n",
       "    .dataframe tbody tr th {\n",
       "        vertical-align: top;\n",
       "    }\n",
       "</style>\n",
       "<table border=\"1\" class=\"dataframe\">\n",
       "  <thead>\n",
       "    <tr style=\"text-align: right;\">\n",
       "      <th></th>\n",
       "      <th>color</th>\n",
       "      <th>num</th>\n",
       "      <th>size</th>\n",
       "    </tr>\n",
       "  </thead>\n",
       "  <tbody>\n",
       "    <tr>\n",
       "      <th>0</th>\n",
       "      <td>Blue</td>\n",
       "      <td>1.0</td>\n",
       "      <td>S</td>\n",
       "    </tr>\n",
       "    <tr>\n",
       "      <th>1</th>\n",
       "      <td>Green</td>\n",
       "      <td>2.0</td>\n",
       "      <td>M</td>\n",
       "    </tr>\n",
       "    <tr>\n",
       "      <th>2</th>\n",
       "      <td>Red</td>\n",
       "      <td>3.0</td>\n",
       "      <td>NaN</td>\n",
       "    </tr>\n",
       "    <tr>\n",
       "      <th>3</th>\n",
       "      <td>Yellow</td>\n",
       "      <td>NaN</td>\n",
       "      <td>L</td>\n",
       "    </tr>\n",
       "  </tbody>\n",
       "</table>\n",
       "</div>"
      ],
      "text/plain": [
       "    color  num size\n",
       "0    Blue  1.0    S\n",
       "1   Green  2.0    M\n",
       "2     Red  3.0  NaN\n",
       "3  Yellow  NaN    L"
      ]
     },
     "execution_count": 37,
     "metadata": {},
     "output_type": "execute_result"
    }
   ],
   "source": [
    "pd.merge(A, B, how='outer')"
   ]
  },
  {
   "cell_type": "markdown",
   "metadata": {},
   "source": [
    "#### Left/right join"
   ]
  },
  {
   "cell_type": "markdown",
   "metadata": {},
   "source": [
    "A left (or right) join includes **all observations found in A (or B)** (introducing missing values as needed)"
   ]
  },
  {
   "cell_type": "code",
   "execution_count": 38,
   "metadata": {},
   "outputs": [
    {
     "data": {
      "text/html": [
       "<div>\n",
       "<style>\n",
       "    .dataframe thead tr:only-child th {\n",
       "        text-align: right;\n",
       "    }\n",
       "\n",
       "    .dataframe thead th {\n",
       "        text-align: left;\n",
       "    }\n",
       "\n",
       "    .dataframe tbody tr th {\n",
       "        vertical-align: top;\n",
       "    }\n",
       "</style>\n",
       "<table border=\"1\" class=\"dataframe\">\n",
       "  <thead>\n",
       "    <tr style=\"text-align: right;\">\n",
       "      <th></th>\n",
       "      <th>color</th>\n",
       "      <th>num</th>\n",
       "      <th>size</th>\n",
       "    </tr>\n",
       "  </thead>\n",
       "  <tbody>\n",
       "    <tr>\n",
       "      <th>0</th>\n",
       "      <td>Blue</td>\n",
       "      <td>1</td>\n",
       "      <td>S</td>\n",
       "    </tr>\n",
       "    <tr>\n",
       "      <th>1</th>\n",
       "      <td>Green</td>\n",
       "      <td>2</td>\n",
       "      <td>M</td>\n",
       "    </tr>\n",
       "    <tr>\n",
       "      <th>2</th>\n",
       "      <td>Red</td>\n",
       "      <td>3</td>\n",
       "      <td>NaN</td>\n",
       "    </tr>\n",
       "  </tbody>\n",
       "</table>\n",
       "</div>"
      ],
      "text/plain": [
       "   color  num size\n",
       "0   Blue    1    S\n",
       "1  Green    2    M\n",
       "2    Red    3  NaN"
      ]
     },
     "execution_count": 38,
     "metadata": {},
     "output_type": "execute_result"
    }
   ],
   "source": [
    "pd.merge(A, B, how='left')"
   ]
  },
  {
   "cell_type": "code",
   "execution_count": 39,
   "metadata": {},
   "outputs": [
    {
     "data": {
      "text/html": [
       "<div>\n",
       "<style>\n",
       "    .dataframe thead tr:only-child th {\n",
       "        text-align: right;\n",
       "    }\n",
       "\n",
       "    .dataframe thead th {\n",
       "        text-align: left;\n",
       "    }\n",
       "\n",
       "    .dataframe tbody tr th {\n",
       "        vertical-align: top;\n",
       "    }\n",
       "</style>\n",
       "<table border=\"1\" class=\"dataframe\">\n",
       "  <thead>\n",
       "    <tr style=\"text-align: right;\">\n",
       "      <th></th>\n",
       "      <th>color</th>\n",
       "      <th>num</th>\n",
       "      <th>size</th>\n",
       "    </tr>\n",
       "  </thead>\n",
       "  <tbody>\n",
       "    <tr>\n",
       "      <th>0</th>\n",
       "      <td>Blue</td>\n",
       "      <td>1.0</td>\n",
       "      <td>S</td>\n",
       "    </tr>\n",
       "    <tr>\n",
       "      <th>1</th>\n",
       "      <td>Green</td>\n",
       "      <td>2.0</td>\n",
       "      <td>M</td>\n",
       "    </tr>\n",
       "    <tr>\n",
       "      <th>2</th>\n",
       "      <td>Yellow</td>\n",
       "      <td>NaN</td>\n",
       "      <td>L</td>\n",
       "    </tr>\n",
       "  </tbody>\n",
       "</table>\n",
       "</div>"
      ],
      "text/plain": [
       "    color  num size\n",
       "0    Blue  1.0    S\n",
       "1   Green  2.0    M\n",
       "2  Yellow  NaN    L"
      ]
     },
     "execution_count": 39,
     "metadata": {},
     "output_type": "execute_result"
    }
   ],
   "source": [
    "pd.merge(A, B, how='right')"
   ]
  },
  {
   "cell_type": "markdown",
   "metadata": {},
   "source": [
    "## Summarising data\n",
    "\n",
    "### Summary statistics\n",
    "\n",
    "A number of summary statistics can be computed using methods such as `mean` and `median`, which can be called on `Series` or `DataFrame`s."
   ]
  },
  {
   "cell_type": "code",
   "execution_count": 40,
   "metadata": {},
   "outputs": [
    {
     "data": {
      "text/plain": [
       "16.7442218798151"
      ]
     },
     "execution_count": 40,
     "metadata": {},
     "output_type": "execute_result"
    }
   ],
   "source": [
    "students['age'].mean()"
   ]
  },
  {
   "cell_type": "code",
   "execution_count": 41,
   "metadata": {},
   "outputs": [
    {
     "data": {
      "text/plain": [
       "17.0"
      ]
     },
     "execution_count": 41,
     "metadata": {},
     "output_type": "execute_result"
    }
   ],
   "source": [
    "students['age'].median()"
   ]
  },
  {
   "cell_type": "markdown",
   "metadata": {},
   "source": [
    "In addition, `describe` provides an easy way to compute a number of summary statistics in one go."
   ]
  },
  {
   "cell_type": "code",
   "execution_count": 42,
   "metadata": {},
   "outputs": [
    {
     "data": {
      "text/plain": [
       "count    649.000000\n",
       "mean      16.744222\n",
       "std        1.218138\n",
       "min       15.000000\n",
       "25%       16.000000\n",
       "50%       17.000000\n",
       "75%       18.000000\n",
       "max       22.000000\n",
       "Name: age, dtype: float64"
      ]
     },
     "execution_count": 42,
     "metadata": {},
     "output_type": "execute_result"
    }
   ],
   "source": [
    "students['age'].describe()"
   ]
  },
  {
   "cell_type": "markdown",
   "metadata": {},
   "source": [
    "#### Tabulation and cross-tabulation\n",
    "\n",
    "When dealing with categorical variables, it's often useful to:\n",
    "* Count the number of unique values (using `nunique`)\n",
    "* Retrieve the set of unique values (using `unique`)\n",
    "* Tabulate, i.e. count the number of occurrences of each value (using `value_counts`)"
   ]
  },
  {
   "cell_type": "code",
   "execution_count": 43,
   "metadata": {},
   "outputs": [
    {
     "data": {
      "text/plain": [
       "2"
      ]
     },
     "execution_count": 43,
     "metadata": {},
     "output_type": "execute_result"
    }
   ],
   "source": [
    "students['sex'].nunique()"
   ]
  },
  {
   "cell_type": "code",
   "execution_count": 44,
   "metadata": {},
   "outputs": [
    {
     "data": {
      "text/plain": [
       "array(['F', 'M'], dtype=object)"
      ]
     },
     "execution_count": 44,
     "metadata": {},
     "output_type": "execute_result"
    }
   ],
   "source": [
    "students['sex'].unique()"
   ]
  },
  {
   "cell_type": "code",
   "execution_count": 45,
   "metadata": {},
   "outputs": [
    {
     "data": {
      "text/plain": [
       "F    383\n",
       "M    266\n",
       "Name: sex, dtype: int64"
      ]
     },
     "execution_count": 45,
     "metadata": {},
     "output_type": "execute_result"
    }
   ],
   "source": [
    "students['sex'].value_counts()"
   ]
  },
  {
   "cell_type": "markdown",
   "metadata": {},
   "source": [
    "By default, the output of `value_counts` is in decreasing order. If desired, we may sort by value using `sort_index`."
   ]
  },
  {
   "cell_type": "code",
   "execution_count": 46,
   "metadata": {},
   "outputs": [
    {
     "data": {
      "text/plain": [
       "1    451\n",
       "2    121\n",
       "3     43\n",
       "4     17\n",
       "5     17\n",
       "Name: alcohol_weekdays, dtype: int64"
      ]
     },
     "execution_count": 46,
     "metadata": {},
     "output_type": "execute_result"
    }
   ],
   "source": [
    "students['alcohol_weekdays'].value_counts().sort_index()"
   ]
  },
  {
   "cell_type": "markdown",
   "metadata": {},
   "source": [
    "Given two `Series`, we can also cross-tabulate."
   ]
  },
  {
   "cell_type": "code",
   "execution_count": 47,
   "metadata": {},
   "outputs": [
    {
     "data": {
      "text/html": [
       "<div>\n",
       "<style>\n",
       "    .dataframe thead tr:only-child th {\n",
       "        text-align: right;\n",
       "    }\n",
       "\n",
       "    .dataframe thead th {\n",
       "        text-align: left;\n",
       "    }\n",
       "\n",
       "    .dataframe tbody tr th {\n",
       "        vertical-align: top;\n",
       "    }\n",
       "</style>\n",
       "<table border=\"1\" class=\"dataframe\">\n",
       "  <thead>\n",
       "    <tr style=\"text-align: right;\">\n",
       "      <th>alcohol_weekend</th>\n",
       "      <th>1</th>\n",
       "      <th>2</th>\n",
       "      <th>3</th>\n",
       "      <th>4</th>\n",
       "      <th>5</th>\n",
       "    </tr>\n",
       "    <tr>\n",
       "      <th>alcohol_weekdays</th>\n",
       "      <th></th>\n",
       "      <th></th>\n",
       "      <th></th>\n",
       "      <th></th>\n",
       "      <th></th>\n",
       "    </tr>\n",
       "  </thead>\n",
       "  <tbody>\n",
       "    <tr>\n",
       "      <th>1</th>\n",
       "      <td>241</td>\n",
       "      <td>113</td>\n",
       "      <td>64</td>\n",
       "      <td>28</td>\n",
       "      <td>5</td>\n",
       "    </tr>\n",
       "    <tr>\n",
       "      <th>2</th>\n",
       "      <td>3</td>\n",
       "      <td>34</td>\n",
       "      <td>43</td>\n",
       "      <td>34</td>\n",
       "      <td>7</td>\n",
       "    </tr>\n",
       "    <tr>\n",
       "      <th>3</th>\n",
       "      <td>1</td>\n",
       "      <td>1</td>\n",
       "      <td>9</td>\n",
       "      <td>20</td>\n",
       "      <td>12</td>\n",
       "    </tr>\n",
       "    <tr>\n",
       "      <th>4</th>\n",
       "      <td>1</td>\n",
       "      <td>1</td>\n",
       "      <td>4</td>\n",
       "      <td>5</td>\n",
       "      <td>6</td>\n",
       "    </tr>\n",
       "    <tr>\n",
       "      <th>5</th>\n",
       "      <td>1</td>\n",
       "      <td>1</td>\n",
       "      <td>0</td>\n",
       "      <td>0</td>\n",
       "      <td>15</td>\n",
       "    </tr>\n",
       "  </tbody>\n",
       "</table>\n",
       "</div>"
      ],
      "text/plain": [
       "alcohol_weekend     1    2   3   4   5\n",
       "alcohol_weekdays                      \n",
       "1                 241  113  64  28   5\n",
       "2                   3   34  43  34   7\n",
       "3                   1    1   9  20  12\n",
       "4                   1    1   4   5   6\n",
       "5                   1    1   0   0  15"
      ]
     },
     "execution_count": 47,
     "metadata": {},
     "output_type": "execute_result"
    }
   ],
   "source": [
    "pd.crosstab(students['alcohol_weekdays'], students['alcohol_weekend'])"
   ]
  },
  {
   "cell_type": "markdown",
   "metadata": {},
   "source": [
    "### Pivot tables"
   ]
  },
  {
   "cell_type": "markdown",
   "metadata": {},
   "source": [
    "Using the method `pivot_table`, we can generate tables of summary statistics (`mean`s by default)."
   ]
  },
  {
   "cell_type": "code",
   "execution_count": 48,
   "metadata": {},
   "outputs": [
    {
     "data": {
      "text/html": [
       "<div>\n",
       "<style>\n",
       "    .dataframe thead tr:only-child th {\n",
       "        text-align: right;\n",
       "    }\n",
       "\n",
       "    .dataframe thead th {\n",
       "        text-align: left;\n",
       "    }\n",
       "\n",
       "    .dataframe tbody tr th {\n",
       "        vertical-align: top;\n",
       "    }\n",
       "</style>\n",
       "<table border=\"1\" class=\"dataframe\">\n",
       "  <thead>\n",
       "    <tr style=\"text-align: right;\">\n",
       "      <th></th>\n",
       "      <th></th>\n",
       "      <th>age</th>\n",
       "    </tr>\n",
       "    <tr>\n",
       "      <th>school</th>\n",
       "      <th>sex</th>\n",
       "      <th></th>\n",
       "    </tr>\n",
       "  </thead>\n",
       "  <tbody>\n",
       "    <tr>\n",
       "      <th rowspan=\"2\" valign=\"top\">Gabriel Pereira</th>\n",
       "      <th>F</th>\n",
       "      <td>16.738397</td>\n",
       "    </tr>\n",
       "    <tr>\n",
       "      <th>M</th>\n",
       "      <td>16.575269</td>\n",
       "    </tr>\n",
       "    <tr>\n",
       "      <th rowspan=\"2\" valign=\"top\">Mouzinho da Silveira</th>\n",
       "      <th>F</th>\n",
       "      <td>16.869863</td>\n",
       "    </tr>\n",
       "    <tr>\n",
       "      <th>M</th>\n",
       "      <td>16.925000</td>\n",
       "    </tr>\n",
       "  </tbody>\n",
       "</table>\n",
       "</div>"
      ],
      "text/plain": [
       "                                age\n",
       "school               sex           \n",
       "Gabriel Pereira      F    16.738397\n",
       "                     M    16.575269\n",
       "Mouzinho da Silveira F    16.869863\n",
       "                     M    16.925000"
      ]
     },
     "execution_count": 48,
     "metadata": {},
     "output_type": "execute_result"
    }
   ],
   "source": [
    "students.pivot_table(values='age', index=['school', 'sex'])"
   ]
  },
  {
   "cell_type": "markdown",
   "metadata": {},
   "source": [
    "In the call to `pivot_table`, variables used to define rows are specified in `index`, and columns in `columns`. A different statistic can be computed by specifying `aggfunc`."
   ]
  },
  {
   "cell_type": "code",
   "execution_count": 49,
   "metadata": {},
   "outputs": [
    {
     "data": {
      "text/html": [
       "<div>\n",
       "<style>\n",
       "    .dataframe thead tr:only-child th {\n",
       "        text-align: right;\n",
       "    }\n",
       "\n",
       "    .dataframe thead th {\n",
       "        text-align: left;\n",
       "    }\n",
       "\n",
       "    .dataframe tbody tr th {\n",
       "        vertical-align: top;\n",
       "    }\n",
       "</style>\n",
       "<table border=\"1\" class=\"dataframe\">\n",
       "  <thead>\n",
       "    <tr style=\"text-align: right;\">\n",
       "      <th>sex</th>\n",
       "      <th>F</th>\n",
       "      <th>M</th>\n",
       "    </tr>\n",
       "    <tr>\n",
       "      <th>school</th>\n",
       "      <th></th>\n",
       "      <th></th>\n",
       "    </tr>\n",
       "  </thead>\n",
       "  <tbody>\n",
       "    <tr>\n",
       "      <th>Gabriel Pereira</th>\n",
       "      <td>17</td>\n",
       "      <td>16</td>\n",
       "    </tr>\n",
       "    <tr>\n",
       "      <th>Mouzinho da Silveira</th>\n",
       "      <td>17</td>\n",
       "      <td>17</td>\n",
       "    </tr>\n",
       "  </tbody>\n",
       "</table>\n",
       "</div>"
      ],
      "text/plain": [
       "sex                    F   M\n",
       "school                      \n",
       "Gabriel Pereira       17  16\n",
       "Mouzinho da Silveira  17  17"
      ]
     },
     "execution_count": 49,
     "metadata": {},
     "output_type": "execute_result"
    }
   ],
   "source": [
    "students.pivot_table(values='age', index='school', columns='sex', aggfunc='median')"
   ]
  },
  {
   "cell_type": "code",
   "execution_count": 50,
   "metadata": {},
   "outputs": [
    {
     "data": {
      "text/html": [
       "<div>\n",
       "<style>\n",
       "    .dataframe thead tr:only-child th {\n",
       "        text-align: right;\n",
       "    }\n",
       "\n",
       "    .dataframe thead th {\n",
       "        text-align: left;\n",
       "    }\n",
       "\n",
       "    .dataframe tbody tr th {\n",
       "        vertical-align: top;\n",
       "    }\n",
       "</style>\n",
       "<table border=\"1\" class=\"dataframe\">\n",
       "  <thead>\n",
       "    <tr style=\"text-align: right;\">\n",
       "      <th></th>\n",
       "      <th>sex</th>\n",
       "      <th>F</th>\n",
       "      <th>M</th>\n",
       "    </tr>\n",
       "    <tr>\n",
       "      <th>school</th>\n",
       "      <th>home_area</th>\n",
       "      <th></th>\n",
       "      <th></th>\n",
       "    </tr>\n",
       "  </thead>\n",
       "  <tbody>\n",
       "    <tr>\n",
       "      <th rowspan=\"2\" valign=\"top\">Gabriel Pereira</th>\n",
       "      <th>Rural</th>\n",
       "      <td>1.292683</td>\n",
       "      <td>1.810811</td>\n",
       "    </tr>\n",
       "    <tr>\n",
       "      <th>Urban</th>\n",
       "      <td>1.290816</td>\n",
       "      <td>1.671141</td>\n",
       "    </tr>\n",
       "    <tr>\n",
       "      <th rowspan=\"2\" valign=\"top\">Mouzinho da Silveira</th>\n",
       "      <th>Rural</th>\n",
       "      <td>1.303797</td>\n",
       "      <td>2.150000</td>\n",
       "    </tr>\n",
       "    <tr>\n",
       "      <th>Urban</th>\n",
       "      <td>1.238806</td>\n",
       "      <td>2.025000</td>\n",
       "    </tr>\n",
       "  </tbody>\n",
       "</table>\n",
       "</div>"
      ],
      "text/plain": [
       "sex                                    F         M\n",
       "school               home_area                    \n",
       "Gabriel Pereira      Rural      1.292683  1.810811\n",
       "                     Urban      1.290816  1.671141\n",
       "Mouzinho da Silveira Rural      1.303797  2.150000\n",
       "                     Urban      1.238806  2.025000"
      ]
     },
     "execution_count": 50,
     "metadata": {},
     "output_type": "execute_result"
    }
   ],
   "source": [
    "students.pivot_table(values='alcohol_weekdays', index=['school', 'home_area'], columns='sex')"
   ]
  },
  {
   "cell_type": "markdown",
   "metadata": {},
   "source": [
    "### Split-apply-combine\n",
    "\n",
    "[Split-apply-combine](http://pandas.pydata.org/pandas-docs/stable/groupby.html) involves:\n",
    "* Splitting the data into groups based on some criteria\n",
    "* Applying a function (e.g. `mean`) to each group independently\n",
    "* Combining the results back into a `DataFrame`\n",
    "\n",
    "![Split-apply-combine](http://i.imgur.com/yjNkiwL.png)"
   ]
  },
  {
   "cell_type": "code",
   "execution_count": 51,
   "metadata": {},
   "outputs": [
    {
     "data": {
      "text/plain": [
       "school\n",
       "Gabriel Pereira         16.666667\n",
       "Mouzinho da Silveira    16.889381\n",
       "Name: age, dtype: float64"
      ]
     },
     "execution_count": 51,
     "metadata": {},
     "output_type": "execute_result"
    }
   ],
   "source": [
    "students.groupby('school')['age'].mean()"
   ]
  },
  {
   "cell_type": "code",
   "execution_count": 52,
   "metadata": {},
   "outputs": [
    {
     "data": {
      "text/html": [
       "<div>\n",
       "<style>\n",
       "    .dataframe thead tr:only-child th {\n",
       "        text-align: right;\n",
       "    }\n",
       "\n",
       "    .dataframe thead th {\n",
       "        text-align: left;\n",
       "    }\n",
       "\n",
       "    .dataframe tbody tr th {\n",
       "        vertical-align: top;\n",
       "    }\n",
       "</style>\n",
       "<table border=\"1\" class=\"dataframe\">\n",
       "  <thead>\n",
       "    <tr style=\"text-align: right;\">\n",
       "      <th></th>\n",
       "      <th>count</th>\n",
       "      <th>mean</th>\n",
       "      <th>std</th>\n",
       "      <th>min</th>\n",
       "      <th>25%</th>\n",
       "      <th>50%</th>\n",
       "      <th>75%</th>\n",
       "      <th>max</th>\n",
       "    </tr>\n",
       "    <tr>\n",
       "      <th>school</th>\n",
       "      <th></th>\n",
       "      <th></th>\n",
       "      <th></th>\n",
       "      <th></th>\n",
       "      <th></th>\n",
       "      <th></th>\n",
       "      <th></th>\n",
       "      <th></th>\n",
       "    </tr>\n",
       "  </thead>\n",
       "  <tbody>\n",
       "    <tr>\n",
       "      <th>Gabriel Pereira</th>\n",
       "      <td>423.0</td>\n",
       "      <td>16.666667</td>\n",
       "      <td>1.244895</td>\n",
       "      <td>15.0</td>\n",
       "      <td>16.0</td>\n",
       "      <td>17.0</td>\n",
       "      <td>18.0</td>\n",
       "      <td>22.0</td>\n",
       "    </tr>\n",
       "    <tr>\n",
       "      <th>Mouzinho da Silveira</th>\n",
       "      <td>226.0</td>\n",
       "      <td>16.889381</td>\n",
       "      <td>1.155152</td>\n",
       "      <td>15.0</td>\n",
       "      <td>16.0</td>\n",
       "      <td>17.0</td>\n",
       "      <td>18.0</td>\n",
       "      <td>20.0</td>\n",
       "    </tr>\n",
       "  </tbody>\n",
       "</table>\n",
       "</div>"
      ],
      "text/plain": [
       "                      count       mean       std   min   25%   50%   75%   max\n",
       "school                                                                        \n",
       "Gabriel Pereira       423.0  16.666667  1.244895  15.0  16.0  17.0  18.0  22.0\n",
       "Mouzinho da Silveira  226.0  16.889381  1.155152  15.0  16.0  17.0  18.0  20.0"
      ]
     },
     "execution_count": 52,
     "metadata": {},
     "output_type": "execute_result"
    }
   ],
   "source": [
    "students.groupby('school')['age'].describe()"
   ]
  },
  {
   "cell_type": "code",
   "execution_count": 53,
   "metadata": {},
   "outputs": [
    {
     "data": {
      "text/html": [
       "<div>\n",
       "<style>\n",
       "    .dataframe thead tr:only-child th {\n",
       "        text-align: right;\n",
       "    }\n",
       "\n",
       "    .dataframe thead th {\n",
       "        text-align: left;\n",
       "    }\n",
       "\n",
       "    .dataframe tbody tr th {\n",
       "        vertical-align: top;\n",
       "    }\n",
       "</style>\n",
       "<table border=\"1\" class=\"dataframe\">\n",
       "  <thead>\n",
       "    <tr style=\"text-align: right;\">\n",
       "      <th></th>\n",
       "      <th>median</th>\n",
       "      <th>min</th>\n",
       "      <th>max</th>\n",
       "    </tr>\n",
       "    <tr>\n",
       "      <th>school</th>\n",
       "      <th></th>\n",
       "      <th></th>\n",
       "      <th></th>\n",
       "    </tr>\n",
       "  </thead>\n",
       "  <tbody>\n",
       "    <tr>\n",
       "      <th>Gabriel Pereira</th>\n",
       "      <td>17</td>\n",
       "      <td>15</td>\n",
       "      <td>22</td>\n",
       "    </tr>\n",
       "    <tr>\n",
       "      <th>Mouzinho da Silveira</th>\n",
       "      <td>17</td>\n",
       "      <td>15</td>\n",
       "      <td>20</td>\n",
       "    </tr>\n",
       "  </tbody>\n",
       "</table>\n",
       "</div>"
      ],
      "text/plain": [
       "                      median  min  max\n",
       "school                                \n",
       "Gabriel Pereira           17   15   22\n",
       "Mouzinho da Silveira      17   15   20"
      ]
     },
     "execution_count": 53,
     "metadata": {},
     "output_type": "execute_result"
    }
   ],
   "source": [
    "students.groupby('school')['age'].agg(['median', 'min', 'max'])  # Customisable"
   ]
  },
  {
   "cell_type": "markdown",
   "metadata": {},
   "source": [
    "## Visualising data\n",
    "\n",
    "### Histograms and density plots\n",
    "\n",
    "Histograms and density plots show the distribution of a numerical variable."
   ]
  },
  {
   "cell_type": "code",
   "execution_count": 54,
   "metadata": {},
   "outputs": [
    {
     "data": {
      "text/plain": [
       "<matplotlib.axes._subplots.AxesSubplot at 0x7f0fb6d53cc0>"
      ]
     },
     "execution_count": 54,
     "metadata": {},
     "output_type": "execute_result"
    },
    {
     "data": {
      "image/png": "[encoded data removed]",
      "text/plain": [
       "<matplotlib.figure.Figure at 0x7f0fb6d53780>"
      ]
     },
     "metadata": {},
     "output_type": "display_data"
    }
   ],
   "source": [
    "students['final_grade'].plot.hist()  # 10 bins by default"
   ]
  },
  {
   "cell_type": "markdown",
   "metadata": {},
   "source": [
    "We can also specify the number of bins as an argument."
   ]
  },
  {
   "cell_type": "code",
   "execution_count": 55,
   "metadata": {},
   "outputs": [
    {
     "data": {
      "text/plain": [
       "<matplotlib.axes._subplots.AxesSubplot at 0x7f0fb397f9e8>"
      ]
     },
     "execution_count": 55,
     "metadata": {},
     "output_type": "execute_result"
    },
    {
     "data": {
      "image/png": "[encoded data removed]",
      "text/plain": [
       "<matplotlib.figure.Figure at 0x7f0fb38e0358>"
      ]
     },
     "metadata": {},
     "output_type": "display_data"
    }
   ],
   "source": [
    "students['final_grade'].plot.hist(20)"
   ]
  },
  {
   "cell_type": "markdown",
   "metadata": {},
   "source": [
    "Let's now compare these with the corresponding density plot ('smooth' version of a histogram)."
   ]
  },
  {
   "cell_type": "code",
   "execution_count": 56,
   "metadata": {},
   "outputs": [
    {
     "data": {
      "text/plain": [
       "<matplotlib.axes._subplots.AxesSubplot at 0x7f0fb38a0cc0>"
      ]
     },
     "execution_count": 56,
     "metadata": {},
     "output_type": "execute_result"
    },
    {
     "data": {
      "image/png": "[encoded data removed]",
      "text/plain": [
       "<matplotlib.figure.Figure at 0x7f0fb37fff28>"
      ]
     },
     "metadata": {},
     "output_type": "display_data"
    }
   ],
   "source": [
    "students['final_grade'].plot.density()"
   ]
  },
  {
   "cell_type": "markdown",
   "metadata": {},
   "source": [
    "#### Grouped histograms\n",
    "\n",
    "We can also create histograms grouped by some variable, e.g. `school`."
   ]
  },
  {
   "cell_type": "code",
   "execution_count": 57,
   "metadata": {},
   "outputs": [
    {
     "data": {
      "text/plain": [
       "array([<matplotlib.axes._subplots.AxesSubplot object at 0x7f0fab5ad9e8>,\n",
       "       <matplotlib.axes._subplots.AxesSubplot object at 0x7f0fab541198>], dtype=object)"
      ]
     },
     "execution_count": 57,
     "metadata": {},
     "output_type": "execute_result"
    },
    {
     "data": {
      "image/png": "[encoded data removed]",
      "text/plain": [
       "<matplotlib.figure.Figure at 0x7f0fab8e20b8>"
      ]
     },
     "metadata": {},
     "output_type": "display_data"
    }
   ],
   "source": [
    "students.hist(column='final_grade', by='school')"
   ]
  },
  {
   "cell_type": "markdown",
   "metadata": {},
   "source": [
    "In addition, we can ensure that the x-axis and y-axis are shared."
   ]
  },
  {
   "cell_type": "code",
   "execution_count": 58,
   "metadata": {},
   "outputs": [
    {
     "data": {
      "text/plain": [
       "array([<matplotlib.axes._subplots.AxesSubplot object at 0x7f0fab42d2b0>,\n",
       "       <matplotlib.axes._subplots.AxesSubplot object at 0x7f0fab39eeb8>], dtype=object)"
      ]
     },
     "execution_count": 58,
     "metadata": {},
     "output_type": "execute_result"
    },
    {
     "data": {
      "image/png": "[encoded data removed]",
      "text/plain": [
       "<matplotlib.figure.Figure at 0x7f0fab4b05c0>"
      ]
     },
     "metadata": {},
     "output_type": "display_data"
    }
   ],
   "source": [
    "students.hist(column='final_grade', by='school', sharex=True, sharey=True)"
   ]
  },
  {
   "cell_type": "markdown",
   "metadata": {},
   "source": [
    "### Scatter plots\n",
    "\n",
    "Scatter plots show the relationship between two (or pairs of) numerical variables."
   ]
  },
  {
   "cell_type": "code",
   "execution_count": 59,
   "metadata": {},
   "outputs": [
    {
     "data": {
      "text/plain": [
       "<matplotlib.axes._subplots.AxesSubplot at 0x7f0fab2cb6a0>"
      ]
     },
     "execution_count": 59,
     "metadata": {},
     "output_type": "execute_result"
    },
    {
     "data": {
      "image/png": "[encoded data removed]",
      "text/plain": [
       "<matplotlib.figure.Figure at 0x7f0fb38d8e10>"
      ]
     },
     "metadata": {},
     "output_type": "display_data"
    }
   ],
   "source": [
    "students.plot.scatter(x='absences', y='final_grade')"
   ]
  },
  {
   "cell_type": "markdown",
   "metadata": {},
   "source": [
    "When points overlap, it can be useful to add some transparency."
   ]
  },
  {
   "cell_type": "code",
   "execution_count": 60,
   "metadata": {},
   "outputs": [
    {
     "data": {
      "text/plain": [
       "<matplotlib.axes._subplots.AxesSubplot at 0x7f0fab1f0a58>"
      ]
     },
     "execution_count": 60,
     "metadata": {},
     "output_type": "execute_result"
    },
    {
     "data": {
      "image/png": "[encoded data removed]",
      "text/plain": [
       "<matplotlib.figure.Figure at 0x7f0fab44d8d0>"
      ]
     },
     "metadata": {},
     "output_type": "display_data"
    }
   ],
   "source": [
    "students.plot.scatter(x='absences', y='final_grade', alpha=0.3)"
   ]
  },
  {
   "cell_type": "markdown",
   "metadata": {},
   "source": [
    "Using `scatter_matrix`, we can generate all pairwise scatter plots for a (small) set of numerical variables."
   ]
  },
  {
   "cell_type": "code",
   "execution_count": 61,
   "metadata": {},
   "outputs": [
    {
     "data": {
      "text/plain": [
       "array([[<matplotlib.axes._subplots.AxesSubplot object at 0x7f0fab175588>,\n",
       "        <matplotlib.axes._subplots.AxesSubplot object at 0x7f0fab0f74e0>,\n",
       "        <matplotlib.axes._subplots.AxesSubplot object at 0x7f0fab0fff98>],\n",
       "       [<matplotlib.axes._subplots.AxesSubplot object at 0x7f0fab043400>,\n",
       "        <matplotlib.axes._subplots.AxesSubplot object at 0x7f0fab015ba8>,\n",
       "        <matplotlib.axes._subplots.AxesSubplot object at 0x7f0fab015be0>],\n",
       "       [<matplotlib.axes._subplots.AxesSubplot object at 0x7f0faaef05c0>,\n",
       "        <matplotlib.axes._subplots.AxesSubplot object at 0x7f0faae6d278>,\n",
       "        <matplotlib.axes._subplots.AxesSubplot object at 0x7f0faae4dba8>]], dtype=object)"
      ]
     },
     "execution_count": 61,
     "metadata": {},
     "output_type": "execute_result"
    },
    {
     "data": {
      "image/png": "[encoded data removed]",
      "text/plain": [
       "<matplotlib.figure.Figure at 0x7f0fab191080>"
      ]
     },
     "metadata": {},
     "output_type": "display_data"
    }
   ],
   "source": [
    "pd.plotting.scatter_matrix(students[['age', 'absences', 'final_grade']], figsize=(10, 8))"
   ]
  },
  {
   "cell_type": "markdown",
   "metadata": {},
   "source": [
    "### Bar plots\n",
    "\n",
    "Bar plots show a numerical comparison across categories."
   ]
  },
  {
   "cell_type": "code",
   "execution_count": 62,
   "metadata": {},
   "outputs": [
    {
     "data": {
      "text/plain": [
       "<matplotlib.axes._subplots.AxesSubplot at 0x7f0faae86908>"
      ]
     },
     "execution_count": 62,
     "metadata": {},
     "output_type": "execute_result"
    },
    {
     "data": {
      "image/png": "[encoded data removed]",
      "text/plain": [
       "<matplotlib.figure.Figure at 0x7f0faacab518>"
      ]
     },
     "metadata": {},
     "output_type": "display_data"
    }
   ],
   "source": [
    "students['alcohol_weekend'].value_counts().sort_index().plot.bar()"
   ]
  },
  {
   "cell_type": "code",
   "execution_count": 63,
   "metadata": {},
   "outputs": [
    {
     "data": {
      "text/plain": [
       "<matplotlib.axes._subplots.AxesSubplot at 0x7f0faaa972e8>"
      ]
     },
     "execution_count": 63,
     "metadata": {},
     "output_type": "execute_result"
    },
    {
     "data": {
      "image/png": "[encoded data removed]",
      "text/plain": [
       "<matplotlib.figure.Figure at 0x7f0faac4ed68>"
      ]
     },
     "metadata": {},
     "output_type": "display_data"
    }
   ],
   "source": [
    "students.groupby(['school', 'sex'])[['alcohol_weekdays', 'alcohol_weekend']].mean().plot.bar()"
   ]
  },
  {
   "cell_type": "markdown",
   "metadata": {},
   "source": [
    "### Box plots\n",
    "\n",
    "Box plots show quartiles (and outliers) for numerical variables (possibly across categories)."
   ]
  },
  {
   "cell_type": "code",
   "execution_count": 64,
   "metadata": {},
   "outputs": [
    {
     "data": {
      "text/plain": [
       "<matplotlib.axes._subplots.AxesSubplot at 0x7f0faabc85c0>"
      ]
     },
     "execution_count": 64,
     "metadata": {},
     "output_type": "execute_result"
    },
    {
     "data": {
      "image/png": "[encoded data removed]",
      "text/plain": [
       "<matplotlib.figure.Figure at 0x7f0faabdaa58>"
      ]
     },
     "metadata": {},
     "output_type": "display_data"
    }
   ],
   "source": [
    "students['age'].plot.box()"
   ]
  },
  {
   "cell_type": "markdown",
   "metadata": {},
   "source": [
    "We can also include multiple variables and group by some variable, e.g. `sex`."
   ]
  },
  {
   "cell_type": "code",
   "execution_count": 65,
   "metadata": {},
   "outputs": [
    {
     "data": {
      "text/plain": [
       "array([<matplotlib.axes._subplots.AxesSubplot object at 0x7f0faab57b38>,\n",
       "       <matplotlib.axes._subplots.AxesSubplot object at 0x7f0faa9f5da0>], dtype=object)"
      ]
     },
     "execution_count": 65,
     "metadata": {},
     "output_type": "execute_result"
    },
    {
     "data": {
      "image/png": "[encoded data removed]",
      "text/plain": [
       "<matplotlib.figure.Figure at 0x7f0faaaf6748>"
      ]
     },
     "metadata": {},
     "output_type": "display_data"
    }
   ],
   "source": [
    "students.boxplot(column=['alcohol_weekdays', 'alcohol_weekend'], by='sex')"
   ]
  }
 ],
 "metadata": {
  "anaconda-cloud": {},
  "kernelspec": {
   "display_name": "Python 3",
   "language": "python",
   "name": "python3"
  },
  "language_info": {
   "codemirror_mode": {
    "name": "ipython",
    "version": 3
   },
   "file_extension": ".py",
   "mimetype": "text/x-python",
   "name": "python",
   "nbconvert_exporter": "python",
   "pygments_lexer": "ipython3",
   "version": "3.6.2"
  }
 },
 "nbformat": 4,
 "nbformat_minor": 2
}
